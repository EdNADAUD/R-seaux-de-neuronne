{
 "cells": [
  {
   "cell_type": "markdown",
   "metadata": {},
   "source": [
    "# TOUT CE QUI EST COMMENTE N'EST PAS A EXECUTER LES DONNEE OT ETE SAUVEGARDE DYNAMIQUEMENT DANS DES EXCEL PRESENT DANS LE POINT ZIP POUR EVITER DE RLANCER LE JUPYTER A CHAQUE FOIS ET PERDRE 10 MIN\n"
   ]
  },
  {
   "cell_type": "markdown",
   "metadata": {},
   "source": [
    "Vous pouvez neanmoins les executer les excel se mettront a jour ou se créeront tout fonctionne"
   ]
  },
  {
   "cell_type": "markdown",
   "metadata": {},
   "source": [
    "## Apprentissage de réseaux de neurones pour la classification"
   ]
  },
  {
   "cell_type": "markdown",
   "metadata": {},
   "source": [
    "## 1.Réseau mono-couche pour la classification"
   ]
  },
  {
   "cell_type": "markdown",
   "metadata": {},
   "source": [
    "#### a) Charger la distribution de données dataset. Préciser le nombre d’observations, leurs dimensions et le nombre de classes. Séparer les données en bases d’apprentissage et de test avec un ratio de 70/30. Afficher les données.\n",
    "\n"
   ]
  },
  {
   "cell_type": "code",
   "execution_count": 29,
   "metadata": {},
   "outputs": [],
   "source": [
    "import matplotlib.pyplot as plt\n",
    "import numpy as np\n",
    "import pandas as pd\n",
    "from sklearn import *\n",
    "from sklearn.neighbors import *\n",
    "from sklearn import *\n",
    "from sklearn.linear_model import *\n",
    "from sklearn.neural_network import *\n",
    "import time\n",
    "from pandas import plotting"
   ]
  },
  {
   "cell_type": "markdown",
   "metadata": {},
   "source": [
    "Import du dataset"
   ]
  },
  {
   "cell_type": "code",
   "execution_count": 30,
   "metadata": {},
   "outputs": [],
   "source": [
    "dataset = np.loadtxt(\"dataset.dat\")\n",
    "X = dataset[:,0:2] \n",
    "y = dataset[:,2]\n",
    "y = y.astype(int)"
   ]
  },
  {
   "cell_type": "markdown",
   "metadata": {},
   "source": [
    "Separation des données en données d'aprentisage (X_train, y_train) et données de test (X_test,y_test) 70/30"
   ]
  },
  {
   "cell_type": "code",
   "execution_count": 31,
   "metadata": {},
   "outputs": [],
   "source": [
    "X_train, X_test, y_train, y_test = model_selection.train_test_split(X, y, train_size=0.7, test_size=0.3, random_state=42)"
   ]
  },
  {
   "cell_type": "code",
   "execution_count": 32,
   "metadata": {},
   "outputs": [
    {
     "data": {
      "text/plain": [
       "(90, 2)"
      ]
     },
     "execution_count": 32,
     "metadata": {},
     "output_type": "execute_result"
    }
   ],
   "source": [
    "X_test=np.array(X_test)\n",
    "X_test.shape"
   ]
  },
  {
   "cell_type": "code",
   "execution_count": null,
   "metadata": {},
   "outputs": [],
   "source": []
  },
  {
   "cell_type": "markdown",
   "metadata": {},
   "source": [
    "Affichage des données de train"
   ]
  },
  {
   "cell_type": "code",
   "execution_count": 33,
   "metadata": {},
   "outputs": [
    {
     "data": {
      "image/png": "[encoded data removed]",
      "text/plain": [
       "<Figure size 432x288 with 1 Axes>"
      ]
     },
     "metadata": {
      "needs_background": "light"
     },
     "output_type": "display_data"
    }
   ],
   "source": [
    "i=0\n",
    "for i in range(210):\n",
    "    if(y_train[i]==0):\n",
    "        plt.scatter(X_train[i, 0], X_train[i, 1], s=10,color=\"black\") \n",
    "    if(y_train[i]==1):\n",
    "        plt.scatter(X_train[i, 0], X_train[i, 1], s=10,color=\"red\")\n",
    "    if(y_train[i]==2):\n",
    "        plt.scatter(X_train[i, 0], X_train[i, 1], s=10,color=\"green\")\n",
    "        \n",
    "plt.show()"
   ]
  },
  {
   "cell_type": "markdown",
   "metadata": {},
   "source": [
    "Affichage des données de test"
   ]
  },
  {
   "cell_type": "code",
   "execution_count": 34,
   "metadata": {},
   "outputs": [
    {
     "data": {
      "image/png": "[encoded data removed]",
      "text/plain": [
       "<Figure size 432x288 with 1 Axes>"
      ]
     },
     "metadata": {
      "needs_background": "light"
     },
     "output_type": "display_data"
    }
   ],
   "source": [
    "i=0\n",
    "for i in range(90):\n",
    "    if(y_test[i]==0):\n",
    "        plt.scatter(X_test[i, 0], X_test[i, 1], s=10,color=\"black\") \n",
    "    if(y_train[i]==1):\n",
    "        plt.scatter(X_test[i, 0], X_test[i, 1], s=10,color=\"red\")\n",
    "    if(y_train[i]==2):\n",
    "        plt.scatter(X_test[i, 0], X_test[i, 1], s=10,color=\"green\")\n",
    "        \n",
    "plt.show()"
   ]
  },
  {
   "cell_type": "markdown",
   "metadata": {},
   "source": [
    "#### b)\tDéfinir un réseau de neurones classifieur mono-couche : \n",
    "\n",
    "clf1=SGDClassifier(loss='perceptron', eta0=A, max_iter=B, learning_rate='constant', verbose=1)\n"
   ]
  },
  {
   "cell_type": "code",
   "execution_count": 35,
   "metadata": {},
   "outputs": [
    {
     "name": "stdout",
     "output_type": "stream",
     "text": [
      "(300, 2)\n",
      "[0 1 2]\n"
     ]
    }
   ],
   "source": [
    "print(X.shape)\n",
    "print(np.unique(y))"
   ]
  },
  {
   "cell_type": "markdown",
   "metadata": {},
   "source": [
    "Nous possédons 300 données, 2 features et 3 classes. Chaque perceptrons recevra en entrée 2 features (poids) et aura pour seuil (-1 ou 1). Comme nous avons 3 couches nous aurons besoins de 3 perceptrons soit 3*2 entrée dond 6 poids au total et 3 seuils (-1 ou 1) pour les 3 perceptrons"
   ]
  },
  {
   "cell_type": "markdown",
   "metadata": {},
   "source": [
    "#### c)\tEntraîner ce réseau (fonction fit) en utilisant successivement les paramètres suivants :\n",
    "#### A = 0.000001\t\tB = 1\n",
    "#### A = 1\t\t\tB = 1\n",
    "#### A = 0.000001\t\tB = 10\n",
    "#### A = 1\t\t\tB = 10\n",
    "\n"
   ]
  },
  {
   "cell_type": "code",
   "execution_count": 36,
   "metadata": {},
   "outputs": [
    {
     "name": "stdout",
     "output_type": "stream",
     "text": [
      "-- Epoch 1\n",
      "Norm: 0.00, NNZs: 2, Bias: -0.000090, T: 210, Avg. loss: 0.000004\n",
      "Total training time: 0.00 seconds.\n",
      "-- Epoch 1\n",
      "Norm: 0.00, NNZs: 2, Bias: -0.000170, T: 210, Avg. loss: 0.000037\n",
      "Total training time: 0.00 seconds.\n",
      "-- Epoch 1\n",
      "Norm: 0.00, NNZs: 2, Bias: -0.000230, T: 210, Avg. loss: 0.000059\n",
      "Total training time: 0.00 seconds.\n",
      "-- Epoch 1\n",
      "Norm: 13.50, NNZs: 2, Bias: -9.000000, T: 210, Avg. loss: 0.374673\n",
      "Total training time: 0.00 seconds.\n",
      "-- Epoch 1\n",
      "Norm: 8.21, NNZs: 2, Bias: -17.000000, T: 210, Avg. loss: 3.734549\n",
      "Total training time: 0.00 seconds.\n",
      "-- Epoch 1\n",
      "Norm: 9.19, NNZs: 2, Bias: -23.000000, T: 210, Avg. loss: 5.889826\n",
      "Total training time: 0.00 seconds.\n",
      "-- Epoch 1\n",
      "Norm: 0.00, NNZs: 2, Bias: -0.000001, T: 210, Avg. loss: 0.000000\n",
      "Total training time: 0.00 seconds.\n",
      "-- Epoch 2\n",
      "Norm: 0.00, NNZs: 2, Bias: -0.000001, T: 420, Avg. loss: 0.000000\n",
      "Total training time: 0.00 seconds.\n",
      "-- Epoch 3\n",
      "Norm: 0.00, NNZs: 2, Bias: -0.000001, T: 630, Avg. loss: 0.000000\n",
      "Total training time: 0.00 seconds.\n",
      "-- Epoch 4\n",
      "Norm: 0.00, NNZs: 2, Bias: -0.000002, T: 840, Avg. loss: 0.000000\n",
      "Total training time: 0.00 seconds.\n",
      "-- Epoch 5\n",
      "Norm: 0.00, NNZs: 2, Bias: -0.000002, T: 1050, Avg. loss: 0.000000\n",
      "Total training time: 0.00 seconds.\n",
      "-- Epoch 6\n",
      "Norm: 0.00, NNZs: 2, Bias: -0.000002, T: 1260, Avg. loss: 0.000000\n",
      "Total training time: 0.00 seconds.\n",
      "Convergence after 6 epochs took 0.00 seconds\n",
      "-- Epoch 1\n",
      "Norm: 0.00, NNZs: 2, Bias: -0.000002, T: 210, Avg. loss: 0.000000\n",
      "Total training time: 0.00 seconds.\n",
      "-- Epoch 2\n",
      "Norm: 0.00, NNZs: 2, Bias: -0.000002, T: 420, Avg. loss: 0.000000\n",
      "Total training time: 0.00 seconds.\n",
      "-- Epoch 3\n",
      "Norm: 0.00, NNZs: 2, Bias: -0.000003, T: 630, Avg. loss: 0.000000\n",
      "Total training time: 0.00 seconds.\n",
      "-- Epoch 4\n",
      "Norm: 0.00, NNZs: 2, Bias: -0.000002, T: 840, Avg. loss: 0.000000\n",
      "Total training time: 0.00 seconds.\n",
      "-- Epoch 5\n",
      "Norm: 0.00, NNZs: 2, Bias: -0.000003, T: 1050, Avg. loss: 0.000000\n",
      "Total training time: 0.00 seconds.\n",
      "-- Epoch 6\n",
      "Norm: 0.00, NNZs: 2, Bias: -0.000002, T: 1260, Avg. loss: 0.000000\n",
      "Total training time: 0.00 seconds.\n",
      "Convergence after 6 epochs took 0.00 seconds\n",
      "-- Epoch 1\n",
      "Norm: 0.00, NNZs: 2, Bias: -0.000002, T: 210, Avg. loss: 0.000001\n",
      "Total training time: 0.00 seconds.\n",
      "-- Epoch 2\n",
      "Norm: 0.00, NNZs: 2, Bias: -0.000003, T: 420, Avg. loss: 0.000000\n",
      "Total training time: 0.00 seconds.\n",
      "-- Epoch 3\n",
      "Norm: 0.00, NNZs: 2, Bias: -0.000003, T: 630, Avg. loss: 0.000001\n",
      "Total training time: 0.00 seconds.\n",
      "-- Epoch 4\n",
      "Norm: 0.00, NNZs: 2, Bias: -0.000002, T: 840, Avg. loss: 0.000001\n",
      "Total training time: 0.00 seconds.\n",
      "-- Epoch 5\n",
      "Norm: 0.00, NNZs: 2, Bias: -0.000002, T: 1050, Avg. loss: 0.000001\n",
      "Total training time: 0.00 seconds.\n",
      "-- Epoch 6\n",
      "Norm: 0.00, NNZs: 2, Bias: -0.000003, T: 1260, Avg. loss: 0.000001\n",
      "Total training time: 0.00 seconds.\n",
      "Convergence after 6 epochs took 0.00 seconds\n",
      "-- Epoch 1\n",
      "Norm: 13.50, NNZs: 2, Bias: -9.000000, T: 210, Avg. loss: 0.374673\n",
      "Total training time: 0.00 seconds.\n",
      "-- Epoch 2\n",
      "Norm: 7.14, NNZs: 2, Bias: -13.000000, T: 420, Avg. loss: 0.474438\n",
      "Total training time: 0.00 seconds.\n",
      "-- Epoch 3\n",
      "Norm: 7.77, NNZs: 2, Bias: -14.000000, T: 630, Avg. loss: 0.310943\n",
      "Total training time: 0.00 seconds.\n",
      "-- Epoch 4\n",
      "Norm: 8.36, NNZs: 2, Bias: -19.000000, T: 840, Avg. loss: 0.345514\n",
      "Total training time: 0.00 seconds.\n",
      "-- Epoch 5\n",
      "Norm: 6.10, NNZs: 2, Bias: -19.000000, T: 1050, Avg. loss: 0.393354\n",
      "Total training time: 0.00 seconds.\n",
      "-- Epoch 6\n",
      "Norm: 12.78, NNZs: 2, Bias: -17.000000, T: 1260, Avg. loss: 0.174711\n",
      "Total training time: 0.00 seconds.\n",
      "-- Epoch 7\n",
      "Norm: 10.08, NNZs: 2, Bias: -18.000000, T: 1470, Avg. loss: 0.134225\n",
      "Total training time: 0.00 seconds.\n",
      "-- Epoch 8\n",
      "Norm: 11.51, NNZs: 2, Bias: -21.000000, T: 1680, Avg. loss: 0.301524\n",
      "Total training time: 0.00 seconds.\n",
      "-- Epoch 9\n",
      "Norm: 7.79, NNZs: 2, Bias: -22.000000, T: 1890, Avg. loss: 0.438737\n",
      "Total training time: 0.00 seconds.\n",
      "-- Epoch 10\n",
      "Norm: 11.72, NNZs: 2, Bias: -22.000000, T: 2100, Avg. loss: 0.314713\n",
      "Total training time: 0.00 seconds.\n",
      "-- Epoch 1\n",
      "Norm: 8.21, NNZs: 2, Bias: -17.000000, T: 210, Avg. loss: 3.734549\n",
      "Total training time: 0.00 seconds.\n",
      "-- Epoch 2\n",
      "Norm: 13.19, NNZs: 2, Bias: -24.000000, T: 420, Avg. loss: 2.871849\n",
      "Total training time: 0.00 seconds.\n",
      "-- Epoch 3\n",
      "Norm: 9.14, NNZs: 2, Bias: -30.000000, T: 630, Avg. loss: 2.195535\n",
      "Total training time: 0.00 seconds.\n",
      "-- Epoch 4\n",
      "Norm: 13.56, NNZs: 2, Bias: -30.000000, T: 840, Avg. loss: 2.515655\n",
      "Total training time: 0.00 seconds.\n",
      "-- Epoch 5\n",
      "Norm: 5.60, NNZs: 2, Bias: -26.000000, T: 1050, Avg. loss: 2.329620\n",
      "Total training time: 0.00 seconds.\n",
      "-- Epoch 6\n",
      "Norm: 13.28, NNZs: 2, Bias: -28.000000, T: 1260, Avg. loss: 3.278915\n",
      "Total training time: 0.00 seconds.\n",
      "-- Epoch 7\n",
      "Norm: 11.00, NNZs: 2, Bias: -28.000000, T: 1470, Avg. loss: 2.336772\n",
      "Total training time: 0.00 seconds.\n",
      "-- Epoch 8\n",
      "Norm: 7.86, NNZs: 2, Bias: -28.000000, T: 1680, Avg. loss: 2.519422\n",
      "Total training time: 0.00 seconds.\n",
      "Convergence after 8 epochs took 0.00 seconds\n",
      "-- Epoch 1\n",
      "Norm: 9.19, NNZs: 2, Bias: -23.000000, T: 210, Avg. loss: 5.889826\n",
      "Total training time: 0.00 seconds.\n",
      "-- Epoch 2\n",
      "Norm: 14.71, NNZs: 2, Bias: -26.000000, T: 420, Avg. loss: 4.924079\n",
      "Total training time: 0.00 seconds.\n",
      "-- Epoch 3\n",
      "Norm: 10.59, NNZs: 2, Bias: -31.000000, T: 630, Avg. loss: 6.562682\n",
      "Total training time: 0.00 seconds.\n",
      "-- Epoch 4\n",
      "Norm: 17.18, NNZs: 2, Bias: -30.000000, T: 840, Avg. loss: 5.213756\n",
      "Total training time: 0.00 seconds.\n",
      "-- Epoch 5\n",
      "Norm: 19.19, NNZs: 2, Bias: -30.000000, T: 1050, Avg. loss: 5.795676\n",
      "Total training time: 0.00 seconds.\n",
      "-- Epoch 6\n",
      "Norm: 11.54, NNZs: 2, Bias: -33.000000, T: 1260, Avg. loss: 4.806856\n",
      "Total training time: 0.00 seconds.\n",
      "-- Epoch 7\n",
      "Norm: 12.05, NNZs: 2, Bias: -30.000000, T: 1470, Avg. loss: 5.373353\n",
      "Total training time: 0.00 seconds.\n",
      "-- Epoch 8\n",
      "Norm: 17.53, NNZs: 2, Bias: -28.000000, T: 1680, Avg. loss: 4.893797\n",
      "Total training time: 0.00 seconds.\n",
      "-- Epoch 9\n",
      "Norm: 13.13, NNZs: 2, Bias: -27.000000, T: 1890, Avg. loss: 5.182870\n",
      "Total training time: 0.00 seconds.\n",
      "-- Epoch 10\n",
      "Norm: 9.16, NNZs: 2, Bias: -25.000000, T: 2100, Avg. loss: 4.509735\n",
      "Total training time: 0.00 seconds.\n"
     ]
    },
    {
     "name": "stderr",
     "output_type": "stream",
     "text": [
      "[Parallel(n_jobs=1)]: Using backend SequentialBackend with 1 concurrent workers.\n",
      "[Parallel(n_jobs=1)]: Done   3 out of   3 | elapsed:    0.0s finished\n",
      "/Users/edouardnadaud/opt/anaconda3/lib/python3.8/site-packages/sklearn/linear_model/_stochastic_gradient.py:570: ConvergenceWarning: Maximum number of iteration reached before convergence. Consider increasing max_iter to improve the fit.\n",
      "  warnings.warn(\"Maximum number of iteration reached before \"\n",
      "[Parallel(n_jobs=1)]: Using backend SequentialBackend with 1 concurrent workers.\n",
      "[Parallel(n_jobs=1)]: Done   3 out of   3 | elapsed:    0.0s finished\n",
      "/Users/edouardnadaud/opt/anaconda3/lib/python3.8/site-packages/sklearn/linear_model/_stochastic_gradient.py:570: ConvergenceWarning: Maximum number of iteration reached before convergence. Consider increasing max_iter to improve the fit.\n",
      "  warnings.warn(\"Maximum number of iteration reached before \"\n",
      "[Parallel(n_jobs=1)]: Using backend SequentialBackend with 1 concurrent workers.\n",
      "[Parallel(n_jobs=1)]: Done   3 out of   3 | elapsed:    0.0s finished\n",
      "[Parallel(n_jobs=1)]: Using backend SequentialBackend with 1 concurrent workers.\n",
      "[Parallel(n_jobs=1)]: Done   3 out of   3 | elapsed:    0.0s finished\n",
      "/Users/edouardnadaud/opt/anaconda3/lib/python3.8/site-packages/sklearn/linear_model/_stochastic_gradient.py:570: ConvergenceWarning: Maximum number of iteration reached before convergence. Consider increasing max_iter to improve the fit.\n",
      "  warnings.warn(\"Maximum number of iteration reached before \"\n"
     ]
    }
   ],
   "source": [
    "scoreTrain=[]\n",
    "scoreTest=[]\n",
    "\n",
    "valuesA=[0.00001, 1, 0.0000001,1]\n",
    "valuesB=[1,1,10,10]\n",
    "for A,B in zip(valuesA,valuesB):\n",
    "    clf1=SGDClassifier(loss='perceptron', eta0= A, max_iter= B, learning_rate='constant', verbose=1, random_state=42)\n",
    "    clf1.fit(X_train,y_train)\n",
    "    scoreTrain.append(clf1.score(X_train,y_train))\n",
    "    scoreTest.append(clf1.score(X_test,y_test))"
   ]
  },
  {
   "cell_type": "code",
   "execution_count": 37,
   "metadata": {},
   "outputs": [
    {
     "name": "stdout",
     "output_type": "stream",
     "text": [
      "Nombre de biais : 3 nombre de poids :  6\n"
     ]
    }
   ],
   "source": [
    "print(\"Nombre de biais : {} nombre de poids :  {}\".format(clf1.intercept_.shape[0],(clf1.coef_.shape[0]*clf1.coef_.shape[1])))\n",
    "    \n"
   ]
  },
  {
   "cell_type": "code",
   "execution_count": 38,
   "metadata": {},
   "outputs": [
    {
     "data": {
      "image/png": "[encoded data removed]",
      "text/plain": [
       "<Figure size 432x288 with 1 Axes>"
      ]
     },
     "metadata": {
      "needs_background": "light"
     },
     "output_type": "display_data"
    }
   ],
   "source": [
    "plt.axes()\n",
    "plt.plot(scoreTrain, label=\"Accurancy Train\")\n",
    "plt.plot(scoreTest, label=\"Accurancy Test\")\n",
    "plt.ylabel(\"Accurancy\", size = 16)\n",
    "plt.legend(bbox_to_anchor=(1.05, 1), loc='upper left', borderaxespad=0.)\n",
    "plt.show() "
   ]
  },
  {
   "cell_type": "markdown",
   "metadata": {},
   "source": [
    "#### rangement  des valeurs pour graphique\n"
   ]
  },
  {
   "cell_type": "markdown",
   "metadata": {},
   "source": [
    "pour train et learning rate =000001"
   ]
  },
  {
   "cell_type": "code",
   "execution_count": 39,
   "metadata": {},
   "outputs": [
    {
     "data": {
      "text/plain": [
       "[0.9, 0.9047619047619048]"
      ]
     },
     "execution_count": 39,
     "metadata": {},
     "output_type": "execute_result"
    }
   ],
   "source": [
    "scoreTrain000001=[]\n",
    "scoreTrain000001.append(scoreTrain[0])\n",
    "scoreTrain000001.append(scoreTrain[2])\n",
    "scoreTrain000001\n"
   ]
  },
  {
   "cell_type": "markdown",
   "metadata": {},
   "source": [
    "pour train et learning rate =1"
   ]
  },
  {
   "cell_type": "code",
   "execution_count": 40,
   "metadata": {},
   "outputs": [
    {
     "data": {
      "text/plain": [
       "[0.9, 0.8904761904761904]"
      ]
     },
     "execution_count": 40,
     "metadata": {},
     "output_type": "execute_result"
    }
   ],
   "source": [
    "scoreTrain1=[]\n",
    "scoreTrain1.append(scoreTrain[1])\n",
    "scoreTrain1.append(scoreTrain[3])\n",
    "scoreTrain1"
   ]
  },
  {
   "cell_type": "markdown",
   "metadata": {},
   "source": [
    "pour test et learning rate =000001"
   ]
  },
  {
   "cell_type": "code",
   "execution_count": 41,
   "metadata": {},
   "outputs": [
    {
     "data": {
      "text/plain": [
       "[0.8111111111111111, 0.8]"
      ]
     },
     "execution_count": 41,
     "metadata": {},
     "output_type": "execute_result"
    }
   ],
   "source": [
    "scoreTest000001=[]\n",
    "scoreTest000001.append(scoreTest[0])\n",
    "scoreTest000001.append(scoreTest[2])\n",
    "scoreTest000001\n",
    "\n"
   ]
  },
  {
   "cell_type": "markdown",
   "metadata": {},
   "source": [
    "pour test et learning rate =1"
   ]
  },
  {
   "cell_type": "code",
   "execution_count": 42,
   "metadata": {},
   "outputs": [
    {
     "data": {
      "text/plain": [
       "[0.8111111111111111, 0.8]"
      ]
     },
     "execution_count": 42,
     "metadata": {},
     "output_type": "execute_result"
    }
   ],
   "source": [
    "scoreTest1=[]\n",
    "scoreTest1.append(scoreTest[1])\n",
    "scoreTest1.append(scoreTest[3])\n",
    "scoreTest1\n",
    "\n",
    "\n"
   ]
  },
  {
   "cell_type": "code",
   "execution_count": 43,
   "metadata": {},
   "outputs": [
    {
     "data": {
      "image/png": "[encoded data removed]",
      "text/plain": [
       "<Figure size 432x288 with 1 Axes>"
      ]
     },
     "metadata": {
      "needs_background": "light"
     },
     "output_type": "display_data"
    }
   ],
   "source": [
    "\n",
    "\n",
    "\n",
    "mydata = pd.DataFrame({\"Train 0.000001 \":scoreTrain000001,\"Test 0.000001 test\":scoreTest000001,\"Train 1  \":scoreTrain1,\"Test 1  \":scoreTest1})\n",
    "mydata.index = [\"N_iter=1\",\"N_iter=10\"]\n",
    "mydata.plot(kind=\"bar\",rot=0) \n",
    "plt.legend(title='Learng rate', bbox_to_anchor=(1.05, 1), loc='upper left')\n",
    "plt.show()\n",
    "\n",
    "\n"
   ]
  },
  {
   "cell_type": "markdown",
   "metadata": {},
   "source": [
    "définition des couleurs :"
   ]
  },
  {
   "cell_type": "code",
   "execution_count": 44,
   "metadata": {},
   "outputs": [],
   "source": [
    "colors = np.array([x for x in \"rgbcmyk\"]) "
   ]
  },
  {
   "cell_type": "code",
   "execution_count": 45,
   "metadata": {},
   "outputs": [
    {
     "name": "stdout",
     "output_type": "stream",
     "text": [
      "-- Epoch 1\n",
      "Norm: 0.00, NNZs: 2, Bias: -0.000090, T: 210, Avg. loss: 0.000004\n",
      "Total training time: 0.00 seconds.\n",
      "-- Epoch 1\n",
      "Norm: 0.00, NNZs: 2, Bias: -0.000170, T: 210, Avg. loss: 0.000037\n",
      "Total training time: 0.00 seconds.\n",
      "-- Epoch 1\n",
      "Norm: 0.00, NNZs: 2, Bias: -0.000230, T: 210, Avg. loss: 0.000059\n",
      "Total training time: 0.00 seconds.\n"
     ]
    },
    {
     "name": "stderr",
     "output_type": "stream",
     "text": [
      "[Parallel(n_jobs=1)]: Using backend SequentialBackend with 1 concurrent workers.\n",
      "[Parallel(n_jobs=1)]: Done   3 out of   3 | elapsed:    0.0s finished\n",
      "/Users/edouardnadaud/opt/anaconda3/lib/python3.8/site-packages/sklearn/linear_model/_stochastic_gradient.py:570: ConvergenceWarning: Maximum number of iteration reached before convergence. Consider increasing max_iter to improve the fit.\n",
      "  warnings.warn(\"Maximum number of iteration reached before \"\n"
     ]
    },
    {
     "data": {
      "image/png": "[encoded data removed]",
      "text/plain": [
       "<Figure size 432x288 with 1 Axes>"
      ]
     },
     "metadata": {
      "needs_background": "light"
     },
     "output_type": "display_data"
    },
    {
     "name": "stderr",
     "output_type": "stream",
     "text": [
      "[Parallel(n_jobs=1)]: Using backend SequentialBackend with 1 concurrent workers.\n",
      "[Parallel(n_jobs=1)]: Done   3 out of   3 | elapsed:    0.0s finished\n",
      "/Users/edouardnadaud/opt/anaconda3/lib/python3.8/site-packages/sklearn/linear_model/_stochastic_gradient.py:570: ConvergenceWarning: Maximum number of iteration reached before convergence. Consider increasing max_iter to improve the fit.\n",
      "  warnings.warn(\"Maximum number of iteration reached before \"\n"
     ]
    },
    {
     "name": "stdout",
     "output_type": "stream",
     "text": [
      "-- Epoch 1\n",
      "Norm: 13.50, NNZs: 2, Bias: -9.000000, T: 210, Avg. loss: 0.374673\n",
      "Total training time: 0.00 seconds.\n",
      "-- Epoch 1\n",
      "Norm: 8.21, NNZs: 2, Bias: -17.000000, T: 210, Avg. loss: 3.734549\n",
      "Total training time: 0.00 seconds.\n",
      "-- Epoch 1\n",
      "Norm: 9.19, NNZs: 2, Bias: -23.000000, T: 210, Avg. loss: 5.889826\n",
      "Total training time: 0.00 seconds.\n"
     ]
    },
    {
     "data": {
      "image/png": "[encoded data removed]",
      "text/plain": [
       "<Figure size 432x288 with 1 Axes>"
      ]
     },
     "metadata": {
      "needs_background": "light"
     },
     "output_type": "display_data"
    },
    {
     "name": "stderr",
     "output_type": "stream",
     "text": [
      "[Parallel(n_jobs=1)]: Using backend SequentialBackend with 1 concurrent workers.\n",
      "[Parallel(n_jobs=1)]: Done   3 out of   3 | elapsed:    0.0s finished\n"
     ]
    },
    {
     "name": "stdout",
     "output_type": "stream",
     "text": [
      "-- Epoch 1\n",
      "Norm: 0.00, NNZs: 2, Bias: -0.000001, T: 210, Avg. loss: 0.000000\n",
      "Total training time: 0.00 seconds.\n",
      "-- Epoch 2\n",
      "Norm: 0.00, NNZs: 2, Bias: -0.000001, T: 420, Avg. loss: 0.000000\n",
      "Total training time: 0.00 seconds.\n",
      "-- Epoch 3\n",
      "Norm: 0.00, NNZs: 2, Bias: -0.000001, T: 630, Avg. loss: 0.000000\n",
      "Total training time: 0.00 seconds.\n",
      "-- Epoch 4\n",
      "Norm: 0.00, NNZs: 2, Bias: -0.000002, T: 840, Avg. loss: 0.000000\n",
      "Total training time: 0.00 seconds.\n",
      "-- Epoch 5\n",
      "Norm: 0.00, NNZs: 2, Bias: -0.000002, T: 1050, Avg. loss: 0.000000\n",
      "Total training time: 0.00 seconds.\n",
      "-- Epoch 6\n",
      "Norm: 0.00, NNZs: 2, Bias: -0.000002, T: 1260, Avg. loss: 0.000000\n",
      "Total training time: 0.00 seconds.\n",
      "Convergence after 6 epochs took 0.00 seconds\n",
      "-- Epoch 1\n",
      "Norm: 0.00, NNZs: 2, Bias: -0.000002, T: 210, Avg. loss: 0.000000\n",
      "Total training time: 0.00 seconds.\n",
      "-- Epoch 2\n",
      "Norm: 0.00, NNZs: 2, Bias: -0.000002, T: 420, Avg. loss: 0.000000\n",
      "Total training time: 0.00 seconds.\n",
      "-- Epoch 3\n",
      "Norm: 0.00, NNZs: 2, Bias: -0.000003, T: 630, Avg. loss: 0.000000\n",
      "Total training time: 0.00 seconds.\n",
      "-- Epoch 4\n",
      "Norm: 0.00, NNZs: 2, Bias: -0.000002, T: 840, Avg. loss: 0.000000\n",
      "Total training time: 0.00 seconds.\n",
      "-- Epoch 5\n",
      "Norm: 0.00, NNZs: 2, Bias: -0.000003, T: 1050, Avg. loss: 0.000000\n",
      "Total training time: 0.00 seconds.\n",
      "-- Epoch 6\n",
      "Norm: 0.00, NNZs: 2, Bias: -0.000002, T: 1260, Avg. loss: 0.000000\n",
      "Total training time: 0.00 seconds.\n",
      "Convergence after 6 epochs took 0.00 seconds\n",
      "-- Epoch 1\n",
      "Norm: 0.00, NNZs: 2, Bias: -0.000002, T: 210, Avg. loss: 0.000001\n",
      "Total training time: 0.00 seconds.\n",
      "-- Epoch 2\n",
      "Norm: 0.00, NNZs: 2, Bias: -0.000003, T: 420, Avg. loss: 0.000000\n",
      "Total training time: 0.00 seconds.\n",
      "-- Epoch 3\n",
      "Norm: 0.00, NNZs: 2, Bias: -0.000003, T: 630, Avg. loss: 0.000001\n",
      "Total training time: 0.00 seconds.\n",
      "-- Epoch 4\n",
      "Norm: 0.00, NNZs: 2, Bias: -0.000002, T: 840, Avg. loss: 0.000001\n",
      "Total training time: 0.00 seconds.\n",
      "-- Epoch 5\n",
      "Norm: 0.00, NNZs: 2, Bias: -0.000002, T: 1050, Avg. loss: 0.000001\n",
      "Total training time: 0.00 seconds.\n",
      "-- Epoch 6\n",
      "Norm: 0.00, NNZs: 2, Bias: -0.000003, T: 1260, Avg. loss: 0.000001\n",
      "Total training time: 0.00 seconds.\n",
      "Convergence after 6 epochs took 0.00 seconds\n"
     ]
    },
    {
     "data": {
      "image/png": "[encoded data removed]",
      "text/plain": [
       "<Figure size 432x288 with 1 Axes>"
      ]
     },
     "metadata": {
      "needs_background": "light"
     },
     "output_type": "display_data"
    },
    {
     "name": "stderr",
     "output_type": "stream",
     "text": [
      "[Parallel(n_jobs=1)]: Using backend SequentialBackend with 1 concurrent workers.\n",
      "[Parallel(n_jobs=1)]: Done   3 out of   3 | elapsed:    0.0s finished\n",
      "/Users/edouardnadaud/opt/anaconda3/lib/python3.8/site-packages/sklearn/linear_model/_stochastic_gradient.py:570: ConvergenceWarning: Maximum number of iteration reached before convergence. Consider increasing max_iter to improve the fit.\n",
      "  warnings.warn(\"Maximum number of iteration reached before \"\n"
     ]
    },
    {
     "name": "stdout",
     "output_type": "stream",
     "text": [
      "-- Epoch 1\n",
      "Norm: 13.50, NNZs: 2, Bias: -9.000000, T: 210, Avg. loss: 0.374673\n",
      "Total training time: 0.00 seconds.\n",
      "-- Epoch 2\n",
      "Norm: 7.14, NNZs: 2, Bias: -13.000000, T: 420, Avg. loss: 0.474438\n",
      "Total training time: 0.00 seconds.\n",
      "-- Epoch 3\n",
      "Norm: 7.77, NNZs: 2, Bias: -14.000000, T: 630, Avg. loss: 0.310943\n",
      "Total training time: 0.00 seconds.\n",
      "-- Epoch 4\n",
      "Norm: 8.36, NNZs: 2, Bias: -19.000000, T: 840, Avg. loss: 0.345514\n",
      "Total training time: 0.00 seconds.\n",
      "-- Epoch 5\n",
      "Norm: 6.10, NNZs: 2, Bias: -19.000000, T: 1050, Avg. loss: 0.393354\n",
      "Total training time: 0.00 seconds.\n",
      "-- Epoch 6\n",
      "Norm: 12.78, NNZs: 2, Bias: -17.000000, T: 1260, Avg. loss: 0.174711\n",
      "Total training time: 0.00 seconds.\n",
      "-- Epoch 7\n",
      "Norm: 10.08, NNZs: 2, Bias: -18.000000, T: 1470, Avg. loss: 0.134225\n",
      "Total training time: 0.00 seconds.\n",
      "-- Epoch 8\n",
      "Norm: 11.51, NNZs: 2, Bias: -21.000000, T: 1680, Avg. loss: 0.301524\n",
      "Total training time: 0.00 seconds.\n",
      "-- Epoch 9\n",
      "Norm: 7.79, NNZs: 2, Bias: -22.000000, T: 1890, Avg. loss: 0.438737\n",
      "Total training time: 0.00 seconds.\n",
      "-- Epoch 10\n",
      "Norm: 11.72, NNZs: 2, Bias: -22.000000, T: 2100, Avg. loss: 0.314713\n",
      "Total training time: 0.00 seconds.\n",
      "-- Epoch 1\n",
      "Norm: 8.21, NNZs: 2, Bias: -17.000000, T: 210, Avg. loss: 3.734549\n",
      "Total training time: 0.00 seconds.\n",
      "-- Epoch 2\n",
      "Norm: 13.19, NNZs: 2, Bias: -24.000000, T: 420, Avg. loss: 2.871849\n",
      "Total training time: 0.00 seconds.\n",
      "-- Epoch 3\n",
      "Norm: 9.14, NNZs: 2, Bias: -30.000000, T: 630, Avg. loss: 2.195535\n",
      "Total training time: 0.00 seconds.\n",
      "-- Epoch 4\n",
      "Norm: 13.56, NNZs: 2, Bias: -30.000000, T: 840, Avg. loss: 2.515655\n",
      "Total training time: 0.00 seconds.\n",
      "-- Epoch 5\n",
      "Norm: 5.60, NNZs: 2, Bias: -26.000000, T: 1050, Avg. loss: 2.329620\n",
      "Total training time: 0.00 seconds.\n",
      "-- Epoch 6\n",
      "Norm: 13.28, NNZs: 2, Bias: -28.000000, T: 1260, Avg. loss: 3.278915\n",
      "Total training time: 0.00 seconds.\n",
      "-- Epoch 7\n",
      "Norm: 11.00, NNZs: 2, Bias: -28.000000, T: 1470, Avg. loss: 2.336772\n",
      "Total training time: 0.00 seconds.\n",
      "-- Epoch 8\n",
      "Norm: 7.86, NNZs: 2, Bias: -28.000000, T: 1680, Avg. loss: 2.519422\n",
      "Total training time: 0.00 seconds.\n",
      "Convergence after 8 epochs took 0.00 seconds\n",
      "-- Epoch 1\n",
      "Norm: 9.19, NNZs: 2, Bias: -23.000000, T: 210, Avg. loss: 5.889826\n",
      "Total training time: 0.00 seconds.\n",
      "-- Epoch 2\n",
      "Norm: 14.71, NNZs: 2, Bias: -26.000000, T: 420, Avg. loss: 4.924079\n",
      "Total training time: 0.00 seconds.\n",
      "-- Epoch 3\n",
      "Norm: 10.59, NNZs: 2, Bias: -31.000000, T: 630, Avg. loss: 6.562682\n",
      "Total training time: 0.00 seconds.\n",
      "-- Epoch 4\n",
      "Norm: 17.18, NNZs: 2, Bias: -30.000000, T: 840, Avg. loss: 5.213756\n",
      "Total training time: 0.00 seconds.\n",
      "-- Epoch 5\n",
      "Norm: 19.19, NNZs: 2, Bias: -30.000000, T: 1050, Avg. loss: 5.795676\n",
      "Total training time: 0.00 seconds.\n",
      "-- Epoch 6\n",
      "Norm: 11.54, NNZs: 2, Bias: -33.000000, T: 1260, Avg. loss: 4.806856\n",
      "Total training time: 0.00 seconds.\n",
      "-- Epoch 7\n",
      "Norm: 12.05, NNZs: 2, Bias: -30.000000, T: 1470, Avg. loss: 5.373353\n",
      "Total training time: 0.00 seconds.\n",
      "-- Epoch 8\n",
      "Norm: 17.53, NNZs: 2, Bias: -28.000000, T: 1680, Avg. loss: 4.893797\n",
      "Total training time: 0.00 seconds.\n",
      "-- Epoch 9\n",
      "Norm: 13.13, NNZs: 2, Bias: -27.000000, T: 1890, Avg. loss: 5.182870\n",
      "Total training time: 0.00 seconds.\n",
      "-- Epoch 10\n",
      "Norm: 9.16, NNZs: 2, Bias: -25.000000, T: 2100, Avg. loss: 4.509735\n",
      "Total training time: 0.00 seconds.\n"
     ]
    },
    {
     "data": {
      "image/png": "[encoded data removed]",
      "text/plain": [
       "<Figure size 432x288 with 1 Axes>"
      ]
     },
     "metadata": {
      "needs_background": "light"
     },
     "output_type": "display_data"
    }
   ],
   "source": [
    "scoreTrain=[]\n",
    "scoreTest=[]\n",
    "scoreTrain=[]\n",
    "scoreTest=[]\n",
    "valuesA=[0.00001, 1, 0.0000001,1]\n",
    "valuesB=[1,1,10,10]\n",
    "\n",
    "for A,B in zip(valuesA,valuesB):\n",
    "    clf1=SGDClassifier(loss='perceptron', eta0= A, max_iter= B, learning_rate='constant', verbose=1, random_state=42)\n",
    "    clf1.fit(X_train,y_train)\n",
    "\n",
    "    x_min, x_max = X_train[:, 0].min()*1.1, X_train[:, 0].max()*1.1 \n",
    "    y_min, y_max = X_train[:, 1].min()*1.1, X_train[:, 1].max()*1.1 \n",
    "    x_h = (x_max - x_min)/50\n",
    "    y_h = (y_max - y_min)/50\n",
    "    xx, yy = np.meshgrid(np.arange(x_min, x_max, x_h), np.arange(y_min, y_max, y_h))\n",
    "    Y = clf1.predict(np.c_[xx.ravel(), yy.ravel()]) \n",
    "    Y = Y.reshape(xx.shape)\n",
    "    plt.contourf(xx, yy, Y, cmap=plt.cm.Paired, alpha=0.8)\n",
    "    plt.scatter(X_train[:, 0], X_train[:, 1], cmap=plt.cm.Paired, c=colors[y_train].tolist()) \n",
    "    plt.xlim(xx.min(), xx.max())\n",
    "    plt.ylim(yy.min(), yy.max())\n",
    "    plt.title(\"Frontiere de décisions pour A = {} et B={}\".format(A,B))\n",
    "    plt.show()"
   ]
  },
  {
   "cell_type": "code",
   "execution_count": 46,
   "metadata": {},
   "outputs": [
    {
     "name": "stderr",
     "output_type": "stream",
     "text": [
      "[Parallel(n_jobs=1)]: Using backend SequentialBackend with 1 concurrent workers.\n",
      "[Parallel(n_jobs=1)]: Done   3 out of   3 | elapsed:    0.0s finished\n",
      "/Users/edouardnadaud/opt/anaconda3/lib/python3.8/site-packages/sklearn/linear_model/_stochastic_gradient.py:570: ConvergenceWarning: Maximum number of iteration reached before convergence. Consider increasing max_iter to improve the fit.\n",
      "  warnings.warn(\"Maximum number of iteration reached before \"\n",
      "[Parallel(n_jobs=1)]: Using backend SequentialBackend with 1 concurrent workers.\n",
      "[Parallel(n_jobs=1)]: Done   3 out of   3 | elapsed:    0.0s finished\n",
      "/Users/edouardnadaud/opt/anaconda3/lib/python3.8/site-packages/sklearn/linear_model/_stochastic_gradient.py:570: ConvergenceWarning: Maximum number of iteration reached before convergence. Consider increasing max_iter to improve the fit.\n",
      "  warnings.warn(\"Maximum number of iteration reached before \"\n",
      "[Parallel(n_jobs=1)]: Using backend SequentialBackend with 1 concurrent workers.\n",
      "[Parallel(n_jobs=1)]: Done   3 out of   3 | elapsed:    0.0s finished\n",
      "/Users/edouardnadaud/opt/anaconda3/lib/python3.8/site-packages/sklearn/linear_model/_stochastic_gradient.py:570: ConvergenceWarning: Maximum number of iteration reached before convergence. Consider increasing max_iter to improve the fit.\n",
      "  warnings.warn(\"Maximum number of iteration reached before \"\n",
      "[Parallel(n_jobs=1)]: Using backend SequentialBackend with 1 concurrent workers.\n",
      "[Parallel(n_jobs=1)]: Done   3 out of   3 | elapsed:    0.0s finished\n",
      "/Users/edouardnadaud/opt/anaconda3/lib/python3.8/site-packages/sklearn/linear_model/_stochastic_gradient.py:570: ConvergenceWarning: Maximum number of iteration reached before convergence. Consider increasing max_iter to improve the fit.\n",
      "  warnings.warn(\"Maximum number of iteration reached before \"\n",
      "[Parallel(n_jobs=1)]: Using backend SequentialBackend with 1 concurrent workers.\n",
      "[Parallel(n_jobs=1)]: Done   3 out of   3 | elapsed:    0.0s finished\n",
      "/Users/edouardnadaud/opt/anaconda3/lib/python3.8/site-packages/sklearn/linear_model/_stochastic_gradient.py:570: ConvergenceWarning: Maximum number of iteration reached before convergence. Consider increasing max_iter to improve the fit.\n",
      "  warnings.warn(\"Maximum number of iteration reached before \"\n",
      "[Parallel(n_jobs=1)]: Using backend SequentialBackend with 1 concurrent workers.\n",
      "[Parallel(n_jobs=1)]: Done   3 out of   3 | elapsed:    0.0s finished\n",
      "/Users/edouardnadaud/opt/anaconda3/lib/python3.8/site-packages/sklearn/linear_model/_stochastic_gradient.py:570: ConvergenceWarning: Maximum number of iteration reached before convergence. Consider increasing max_iter to improve the fit.\n",
      "  warnings.warn(\"Maximum number of iteration reached before \"\n",
      "[Parallel(n_jobs=1)]: Using backend SequentialBackend with 1 concurrent workers.\n"
     ]
    },
    {
     "name": "stdout",
     "output_type": "stream",
     "text": [
      "-- Epoch 1\n",
      "Norm: 13.50, NNZs: 2, Bias: -9.000000, T: 210, Avg. loss: 0.374673\n",
      "Total training time: 0.00 seconds.\n",
      "-- Epoch 2\n",
      "Norm: 7.14, NNZs: 2, Bias: -13.000000, T: 420, Avg. loss: 0.474438\n",
      "Total training time: 0.00 seconds.\n",
      "-- Epoch 3\n",
      "Norm: 7.77, NNZs: 2, Bias: -14.000000, T: 630, Avg. loss: 0.310943\n",
      "Total training time: 0.00 seconds.\n",
      "-- Epoch 4\n",
      "Norm: 8.36, NNZs: 2, Bias: -19.000000, T: 840, Avg. loss: 0.345514\n",
      "Total training time: 0.00 seconds.\n",
      "-- Epoch 5\n",
      "Norm: 6.10, NNZs: 2, Bias: -19.000000, T: 1050, Avg. loss: 0.393354\n",
      "Total training time: 0.00 seconds.\n",
      "-- Epoch 6\n",
      "Norm: 12.78, NNZs: 2, Bias: -17.000000, T: 1260, Avg. loss: 0.174711\n",
      "Total training time: 0.00 seconds.\n",
      "-- Epoch 7\n",
      "Norm: 10.08, NNZs: 2, Bias: -18.000000, T: 1470, Avg. loss: 0.134225\n",
      "Total training time: 0.00 seconds.\n",
      "-- Epoch 8\n",
      "Norm: 11.51, NNZs: 2, Bias: -21.000000, T: 1680, Avg. loss: 0.301524\n",
      "Total training time: 0.00 seconds.\n",
      "-- Epoch 9\n",
      "Norm: 7.79, NNZs: 2, Bias: -22.000000, T: 1890, Avg. loss: 0.438737\n",
      "Total training time: 0.00 seconds.\n",
      "-- Epoch 10\n",
      "Norm: 11.72, NNZs: 2, Bias: -22.000000, T: 2100, Avg. loss: 0.314713\n",
      "Total training time: 0.00 seconds.\n",
      "-- Epoch 1\n",
      "Norm: 8.21, NNZs: 2, Bias: -17.000000, T: 210, Avg. loss: 3.734549\n",
      "Total training time: 0.00 seconds.\n",
      "-- Epoch 2\n",
      "Norm: 13.19, NNZs: 2, Bias: -24.000000, T: 420, Avg. loss: 2.871849\n",
      "Total training time: 0.00 seconds.\n",
      "-- Epoch 3\n",
      "Norm: 9.14, NNZs: 2, Bias: -30.000000, T: 630, Avg. loss: 2.195535\n",
      "Total training time: 0.00 seconds.\n",
      "-- Epoch 4\n",
      "Norm: 13.56, NNZs: 2, Bias: -30.000000, T: 840, Avg. loss: 2.515655\n",
      "Total training time: 0.00 seconds.\n",
      "-- Epoch 5\n",
      "Norm: 5.60, NNZs: 2, Bias: -26.000000, T: 1050, Avg. loss: 2.329620\n",
      "Total training time: 0.00 seconds.\n",
      "-- Epoch 6\n",
      "Norm: 13.28, NNZs: 2, Bias: -28.000000, T: 1260, Avg. loss: 3.278915\n",
      "Total training time: 0.00 seconds.\n",
      "-- Epoch 7\n",
      "Norm: 11.00, NNZs: 2, Bias: -28.000000, T: 1470, Avg. loss: 2.336772\n",
      "Total training time: 0.00 seconds.\n",
      "-- Epoch 8\n",
      "Norm: 7.86, NNZs: 2, Bias: -28.000000, T: 1680, Avg. loss: 2.519422\n",
      "Total training time: 0.00 seconds.\n",
      "Convergence after 8 epochs took 0.00 seconds\n",
      "-- Epoch 1\n",
      "Norm: 9.19, NNZs: 2, Bias: -23.000000, T: 210, Avg. loss: 5.889826\n",
      "Total training time: 0.00 seconds.\n",
      "-- Epoch 2\n",
      "Norm: 14.71, NNZs: 2, Bias: -26.000000, T: 420, Avg. loss: 4.924079\n",
      "Total training time: 0.00 seconds.\n",
      "-- Epoch 3\n",
      "Norm: 10.59, NNZs: 2, Bias: -31.000000, T: 630, Avg. loss: 6.562682\n",
      "Total training time: 0.00 seconds.\n",
      "-- Epoch 4\n",
      "Norm: 17.18, NNZs: 2, Bias: -30.000000, T: 840, Avg. loss: 5.213756\n",
      "Total training time: 0.00 seconds.\n",
      "-- Epoch 5\n",
      "Norm: 19.19, NNZs: 2, Bias: -30.000000, T: 1050, Avg. loss: 5.795676\n",
      "Total training time: 0.00 seconds.\n",
      "-- Epoch 6\n",
      "Norm: 11.54, NNZs: 2, Bias: -33.000000, T: 1260, Avg. loss: 4.806856\n",
      "Total training time: 0.00 seconds.\n",
      "-- Epoch 7\n",
      "Norm: 12.05, NNZs: 2, Bias: -30.000000, T: 1470, Avg. loss: 5.373353\n",
      "Total training time: 0.00 seconds.\n",
      "-- Epoch 8\n",
      "Norm: 17.53, NNZs: 2, Bias: -28.000000, T: 1680, Avg. loss: 4.893797\n",
      "Total training time: 0.00 seconds.\n",
      "-- Epoch 9\n",
      "Norm: 13.13, NNZs: 2, Bias: -27.000000, T: 1890, Avg. loss: 5.182870\n",
      "Total training time: 0.00 seconds.\n",
      "-- Epoch 10\n",
      "Norm: 9.16, NNZs: 2, Bias: -25.000000, T: 2100, Avg. loss: 4.509735\n",
      "Total training time: 0.00 seconds.\n",
      "-- Epoch 1\n",
      "Norm: 13.50, NNZs: 2, Bias: -9.000000, T: 210, Avg. loss: 0.374673\n",
      "Total training time: 0.00 seconds.\n",
      "-- Epoch 2\n",
      "Norm: 7.14, NNZs: 2, Bias: -13.000000, T: 420, Avg. loss: 0.474438\n",
      "Total training time: 0.00 seconds.\n",
      "-- Epoch 3\n",
      "Norm: 7.77, NNZs: 2, Bias: -14.000000, T: 630, Avg. loss: 0.310943\n",
      "Total training time: 0.00 seconds.\n",
      "-- Epoch 4\n",
      "Norm: 8.36, NNZs: 2, Bias: -19.000000, T: 840, Avg. loss: 0.345514\n",
      "Total training time: 0.00 seconds.\n",
      "-- Epoch 5\n",
      "Norm: 6.10, NNZs: 2, Bias: -19.000000, T: 1050, Avg. loss: 0.393354\n",
      "Total training time: 0.00 seconds.\n",
      "-- Epoch 6\n",
      "Norm: 12.78, NNZs: 2, Bias: -17.000000, T: 1260, Avg. loss: 0.174711\n",
      "Total training time: 0.00 seconds.\n",
      "-- Epoch 7\n",
      "Norm: 10.08, NNZs: 2, Bias: -18.000000, T: 1470, Avg. loss: 0.134225\n",
      "Total training time: 0.00 seconds.\n",
      "-- Epoch 8\n",
      "Norm: 11.51, NNZs: 2, Bias: -21.000000, T: 1680, Avg. loss: 0.301524\n",
      "Total training time: 0.00 seconds.\n",
      "-- Epoch 9\n",
      "Norm: 7.79, NNZs: 2, Bias: -22.000000, T: 1890, Avg. loss: 0.438737\n",
      "Total training time: 0.00 seconds.\n",
      "-- Epoch 10\n",
      "Norm: 11.72, NNZs: 2, Bias: -22.000000, T: 2100, Avg. loss: 0.314713\n",
      "Total training time: 0.00 seconds.\n",
      "-- Epoch 1\n",
      "Norm: 8.21, NNZs: 2, Bias: -17.000000, T: 210, Avg. loss: 3.734549\n",
      "Total training time: 0.00 seconds.\n",
      "-- Epoch 2\n",
      "Norm: 13.19, NNZs: 2, Bias: -24.000000, T: 420, Avg. loss: 2.871849\n",
      "Total training time: 0.00 seconds.\n",
      "-- Epoch 3\n",
      "Norm: 9.14, NNZs: 2, Bias: -30.000000, T: 630, Avg. loss: 2.195535\n",
      "Total training time: 0.00 seconds.\n",
      "-- Epoch 4\n",
      "Norm: 13.56, NNZs: 2, Bias: -30.000000, T: 840, Avg. loss: 2.515655\n",
      "Total training time: 0.00 seconds.\n",
      "-- Epoch 5\n",
      "Norm: 5.60, NNZs: 2, Bias: -26.000000, T: 1050, Avg. loss: 2.329620\n",
      "Total training time: 0.00 seconds.\n",
      "-- Epoch 6\n",
      "Norm: 13.28, NNZs: 2, Bias: -28.000000, T: 1260, Avg. loss: 3.278915\n",
      "Total training time: 0.00 seconds.\n",
      "-- Epoch 7\n",
      "Norm: 11.00, NNZs: 2, Bias: -28.000000, T: 1470, Avg. loss: 2.336772\n",
      "Total training time: 0.00 seconds.\n",
      "-- Epoch 8\n",
      "Norm: 7.86, NNZs: 2, Bias: -28.000000, T: 1680, Avg. loss: 2.519422\n",
      "Total training time: 0.00 seconds.\n",
      "Convergence after 8 epochs took 0.00 seconds\n",
      "-- Epoch 1\n",
      "Norm: 9.19, NNZs: 2, Bias: -23.000000, T: 210, Avg. loss: 5.889826\n",
      "Total training time: 0.00 seconds.\n",
      "-- Epoch 2\n",
      "Norm: 14.71, NNZs: 2, Bias: -26.000000, T: 420, Avg. loss: 4.924079\n",
      "Total training time: 0.00 seconds.\n",
      "-- Epoch 3\n",
      "Norm: 10.59, NNZs: 2, Bias: -31.000000, T: 630, Avg. loss: 6.562682\n",
      "Total training time: 0.00 seconds.\n",
      "-- Epoch 4\n",
      "Norm: 17.18, NNZs: 2, Bias: -30.000000, T: 840, Avg. loss: 5.213756\n",
      "Total training time: 0.00 seconds.\n",
      "-- Epoch 5\n",
      "Norm: 19.19, NNZs: 2, Bias: -30.000000, T: 1050, Avg. loss: 5.795676\n",
      "Total training time: 0.00 seconds.\n",
      "-- Epoch 6\n",
      "Norm: 11.54, NNZs: 2, Bias: -33.000000, T: 1260, Avg. loss: 4.806856\n",
      "Total training time: 0.00 seconds.\n",
      "-- Epoch 7\n",
      "Norm: 12.05, NNZs: 2, Bias: -30.000000, T: 1470, Avg. loss: 5.373353\n",
      "Total training time: 0.00 seconds.\n",
      "-- Epoch 8\n",
      "Norm: 17.53, NNZs: 2, Bias: -28.000000, T: 1680, Avg. loss: 4.893797\n",
      "Total training time: 0.00 seconds.\n",
      "-- Epoch 9\n",
      "Norm: 13.13, NNZs: 2, Bias: -27.000000, T: 1890, Avg. loss: 5.182870\n",
      "Total training time: 0.00 seconds.\n",
      "-- Epoch 10\n",
      "Norm: 9.16, NNZs: 2, Bias: -25.000000, T: 2100, Avg. loss: 4.509735\n",
      "Total training time: 0.00 seconds.\n",
      "-- Epoch 1\n",
      "Norm: 13.50, NNZs: 2, Bias: -9.000000, T: 210, Avg. loss: 0.374673\n",
      "Total training time: 0.00 seconds.\n",
      "-- Epoch 2\n",
      "Norm: 7.14, NNZs: 2, Bias: -13.000000, T: 420, Avg. loss: 0.474438\n",
      "Total training time: 0.00 seconds.\n",
      "-- Epoch 3\n",
      "Norm: 7.77, NNZs: 2, Bias: -14.000000, T: 630, Avg. loss: 0.310943\n",
      "Total training time: 0.00 seconds.\n",
      "-- Epoch 4\n",
      "Norm: 8.36, NNZs: 2, Bias: -19.000000, T: 840, Avg. loss: 0.345514\n",
      "Total training time: 0.00 seconds.\n",
      "-- Epoch 5\n",
      "Norm: 6.10, NNZs: 2, Bias: -19.000000, T: 1050, Avg. loss: 0.393354\n",
      "Total training time: 0.00 seconds.\n",
      "-- Epoch 6\n",
      "Norm: 12.78, NNZs: 2, Bias: -17.000000, T: 1260, Avg. loss: 0.174711\n",
      "Total training time: 0.00 seconds.\n",
      "-- Epoch 7\n",
      "Norm: 10.08, NNZs: 2, Bias: -18.000000, T: 1470, Avg. loss: 0.134225\n",
      "Total training time: 0.00 seconds.\n",
      "-- Epoch 8\n",
      "Norm: 11.51, NNZs: 2, Bias: -21.000000, T: 1680, Avg. loss: 0.301524\n",
      "Total training time: 0.00 seconds.\n",
      "-- Epoch 9\n",
      "Norm: 7.79, NNZs: 2, Bias: -22.000000, T: 1890, Avg. loss: 0.438737\n",
      "Total training time: 0.00 seconds.\n",
      "-- Epoch 10\n",
      "Norm: 11.72, NNZs: 2, Bias: -22.000000, T: 2100, Avg. loss: 0.314713\n",
      "Total training time: 0.00 seconds.\n",
      "-- Epoch 1\n",
      "Norm: 8.21, NNZs: 2, Bias: -17.000000, T: 210, Avg. loss: 3.734549\n",
      "Total training time: 0.00 seconds.\n",
      "-- Epoch 2\n",
      "Norm: 13.19, NNZs: 2, Bias: -24.000000, T: 420, Avg. loss: 2.871849\n",
      "Total training time: 0.00 seconds.\n",
      "-- Epoch 3\n",
      "Norm: 9.14, NNZs: 2, Bias: -30.000000, T: 630, Avg. loss: 2.195535\n",
      "Total training time: 0.00 seconds.\n",
      "-- Epoch 4\n",
      "Norm: 13.56, NNZs: 2, Bias: -30.000000, T: 840, Avg. loss: 2.515655\n",
      "Total training time: 0.00 seconds.\n",
      "-- Epoch 5\n",
      "Norm: 5.60, NNZs: 2, Bias: -26.000000, T: 1050, Avg. loss: 2.329620\n",
      "Total training time: 0.00 seconds.\n",
      "-- Epoch 6\n",
      "Norm: 13.28, NNZs: 2, Bias: -28.000000, T: 1260, Avg. loss: 3.278915\n",
      "Total training time: 0.00 seconds.\n",
      "-- Epoch 7\n",
      "Norm: 11.00, NNZs: 2, Bias: -28.000000, T: 1470, Avg. loss: 2.336772\n",
      "Total training time: 0.00 seconds.\n",
      "-- Epoch 8\n",
      "Norm: 7.86, NNZs: 2, Bias: -28.000000, T: 1680, Avg. loss: 2.519422\n",
      "Total training time: 0.00 seconds.\n",
      "Convergence after 8 epochs took 0.00 seconds\n",
      "-- Epoch 1\n",
      "Norm: 9.19, NNZs: 2, Bias: -23.000000, T: 210, Avg. loss: 5.889826\n",
      "Total training time: 0.00 seconds.\n",
      "-- Epoch 2\n",
      "Norm: 14.71, NNZs: 2, Bias: -26.000000, T: 420, Avg. loss: 4.924079\n",
      "Total training time: 0.00 seconds.\n",
      "-- Epoch 3\n",
      "Norm: 10.59, NNZs: 2, Bias: -31.000000, T: 630, Avg. loss: 6.562682\n",
      "Total training time: 0.00 seconds.\n",
      "-- Epoch 4\n",
      "Norm: 17.18, NNZs: 2, Bias: -30.000000, T: 840, Avg. loss: 5.213756\n",
      "Total training time: 0.00 seconds.\n",
      "-- Epoch 5\n",
      "Norm: 19.19, NNZs: 2, Bias: -30.000000, T: 1050, Avg. loss: 5.795676\n",
      "Total training time: 0.00 seconds.\n",
      "-- Epoch 6\n",
      "Norm: 11.54, NNZs: 2, Bias: -33.000000, T: 1260, Avg. loss: 4.806856\n",
      "Total training time: 0.00 seconds.\n",
      "-- Epoch 7\n",
      "Norm: 12.05, NNZs: 2, Bias: -30.000000, T: 1470, Avg. loss: 5.373353\n",
      "Total training time: 0.00 seconds.\n",
      "-- Epoch 8\n",
      "Norm: 17.53, NNZs: 2, Bias: -28.000000, T: 1680, Avg. loss: 4.893797\n",
      "Total training time: 0.00 seconds.\n",
      "-- Epoch 9\n",
      "Norm: 13.13, NNZs: 2, Bias: -27.000000, T: 1890, Avg. loss: 5.182870\n",
      "Total training time: 0.00 seconds.\n",
      "-- Epoch 10\n",
      "Norm: 9.16, NNZs: 2, Bias: -25.000000, T: 2100, Avg. loss: 4.509735\n",
      "Total training time: 0.00 seconds.\n",
      "-- Epoch 1\n",
      "Norm: 13.50, NNZs: 2, Bias: -9.000000, T: 210, Avg. loss: 0.374673\n",
      "Total training time: 0.00 seconds.\n",
      "-- Epoch 2\n",
      "Norm: 7.14, NNZs: 2, Bias: -13.000000, T: 420, Avg. loss: 0.474438\n",
      "Total training time: 0.00 seconds.\n",
      "-- Epoch 3\n",
      "Norm: 7.77, NNZs: 2, Bias: -14.000000, T: 630, Avg. loss: 0.310943\n",
      "Total training time: 0.00 seconds.\n",
      "-- Epoch 4\n",
      "Norm: 8.36, NNZs: 2, Bias: -19.000000, T: 840, Avg. loss: 0.345514\n",
      "Total training time: 0.00 seconds.\n",
      "-- Epoch 5\n",
      "Norm: 6.10, NNZs: 2, Bias: -19.000000, T: 1050, Avg. loss: 0.393354\n",
      "Total training time: 0.00 seconds.\n",
      "-- Epoch 6\n",
      "Norm: 12.78, NNZs: 2, Bias: -17.000000, T: 1260, Avg. loss: 0.174711\n",
      "Total training time: 0.00 seconds.\n",
      "-- Epoch 7\n",
      "Norm: 10.08, NNZs: 2, Bias: -18.000000, T: 1470, Avg. loss: 0.134225\n",
      "Total training time: 0.00 seconds.\n",
      "-- Epoch 8\n",
      "Norm: 11.51, NNZs: 2, Bias: -21.000000, T: 1680, Avg. loss: 0.301524\n",
      "Total training time: 0.00 seconds.\n",
      "-- Epoch 9\n",
      "Norm: 7.79, NNZs: 2, Bias: -22.000000, T: 1890, Avg. loss: 0.438737\n",
      "Total training time: 0.00 seconds.\n",
      "-- Epoch 10\n",
      "Norm: 11.72, NNZs: 2, Bias: -22.000000, T: 2100, Avg. loss: 0.314713\n",
      "Total training time: 0.00 seconds.\n",
      "-- Epoch 1\n",
      "Norm: 8.21, NNZs: 2, Bias: -17.000000, T: 210, Avg. loss: 3.734549\n",
      "Total training time: 0.00 seconds.\n",
      "-- Epoch 2\n",
      "Norm: 13.19, NNZs: 2, Bias: -24.000000, T: 420, Avg. loss: 2.871849\n",
      "Total training time: 0.00 seconds.\n",
      "-- Epoch 3\n",
      "Norm: 9.14, NNZs: 2, Bias: -30.000000, T: 630, Avg. loss: 2.195535\n",
      "Total training time: 0.00 seconds.\n",
      "-- Epoch 4\n",
      "Norm: 13.56, NNZs: 2, Bias: -30.000000, T: 840, Avg. loss: 2.515655\n",
      "Total training time: 0.00 seconds.\n",
      "-- Epoch 5\n",
      "Norm: 5.60, NNZs: 2, Bias: -26.000000, T: 1050, Avg. loss: 2.329620\n",
      "Total training time: 0.00 seconds.\n",
      "-- Epoch 6\n",
      "Norm: 13.28, NNZs: 2, Bias: -28.000000, T: 1260, Avg. loss: 3.278915\n",
      "Total training time: 0.00 seconds.\n",
      "-- Epoch 7\n",
      "Norm: 11.00, NNZs: 2, Bias: -28.000000, T: 1470, Avg. loss: 2.336772\n",
      "Total training time: 0.00 seconds.\n",
      "-- Epoch 8\n",
      "Norm: 7.86, NNZs: 2, Bias: -28.000000, T: 1680, Avg. loss: 2.519422\n",
      "Total training time: 0.00 seconds.\n",
      "Convergence after 8 epochs took 0.00 seconds\n",
      "-- Epoch 1\n",
      "Norm: 9.19, NNZs: 2, Bias: -23.000000, T: 210, Avg. loss: 5.889826\n",
      "Total training time: 0.00 seconds.\n",
      "-- Epoch 2\n",
      "Norm: 14.71, NNZs: 2, Bias: -26.000000, T: 420, Avg. loss: 4.924079\n",
      "Total training time: 0.00 seconds.\n",
      "-- Epoch 3\n",
      "Norm: 10.59, NNZs: 2, Bias: -31.000000, T: 630, Avg. loss: 6.562682\n",
      "Total training time: 0.00 seconds.\n",
      "-- Epoch 4\n",
      "Norm: 17.18, NNZs: 2, Bias: -30.000000, T: 840, Avg. loss: 5.213756\n",
      "Total training time: 0.00 seconds.\n",
      "-- Epoch 5\n",
      "Norm: 19.19, NNZs: 2, Bias: -30.000000, T: 1050, Avg. loss: 5.795676\n",
      "Total training time: 0.00 seconds.\n",
      "-- Epoch 6\n",
      "Norm: 11.54, NNZs: 2, Bias: -33.000000, T: 1260, Avg. loss: 4.806856\n",
      "Total training time: 0.00 seconds.\n",
      "-- Epoch 7\n",
      "Norm: 12.05, NNZs: 2, Bias: -30.000000, T: 1470, Avg. loss: 5.373353\n",
      "Total training time: 0.00 seconds.\n",
      "-- Epoch 8\n",
      "Norm: 17.53, NNZs: 2, Bias: -28.000000, T: 1680, Avg. loss: 4.893797\n",
      "Total training time: 0.00 seconds.\n",
      "-- Epoch 9\n",
      "Norm: 13.13, NNZs: 2, Bias: -27.000000, T: 1890, Avg. loss: 5.182870\n",
      "Total training time: 0.00 seconds.\n",
      "-- Epoch 10\n",
      "Norm: 9.16, NNZs: 2, Bias: -25.000000, T: 2100, Avg. loss: 4.509735\n",
      "Total training time: 0.00 seconds.\n",
      "-- Epoch 1\n",
      "Norm: 13.50, NNZs: 2, Bias: -9.000000, T: 210, Avg. loss: 0.374673\n",
      "Total training time: 0.00 seconds.\n",
      "-- Epoch 2\n",
      "Norm: 7.14, NNZs: 2, Bias: -13.000000, T: 420, Avg. loss: 0.474438\n",
      "Total training time: 0.00 seconds.\n",
      "-- Epoch 3\n",
      "Norm: 7.77, NNZs: 2, Bias: -14.000000, T: 630, Avg. loss: 0.310943\n",
      "Total training time: 0.00 seconds.\n",
      "-- Epoch 4\n",
      "Norm: 8.36, NNZs: 2, Bias: -19.000000, T: 840, Avg. loss: 0.345514\n",
      "Total training time: 0.00 seconds.\n",
      "-- Epoch 5\n",
      "Norm: 6.10, NNZs: 2, Bias: -19.000000, T: 1050, Avg. loss: 0.393354\n",
      "Total training time: 0.00 seconds.\n",
      "-- Epoch 6\n",
      "Norm: 12.78, NNZs: 2, Bias: -17.000000, T: 1260, Avg. loss: 0.174711\n",
      "Total training time: 0.00 seconds.\n",
      "-- Epoch 7\n",
      "Norm: 10.08, NNZs: 2, Bias: -18.000000, T: 1470, Avg. loss: 0.134225\n",
      "Total training time: 0.00 seconds.\n",
      "-- Epoch 8\n",
      "Norm: 11.51, NNZs: 2, Bias: -21.000000, T: 1680, Avg. loss: 0.301524\n",
      "Total training time: 0.00 seconds.\n",
      "-- Epoch 9\n",
      "Norm: 7.79, NNZs: 2, Bias: -22.000000, T: 1890, Avg. loss: 0.438737\n",
      "Total training time: 0.00 seconds.\n",
      "-- Epoch 10\n",
      "Norm: 11.72, NNZs: 2, Bias: -22.000000, T: 2100, Avg. loss: 0.314713\n",
      "Total training time: 0.00 seconds.\n",
      "-- Epoch 1\n",
      "Norm: 8.21, NNZs: 2, Bias: -17.000000, T: 210, Avg. loss: 3.734549\n",
      "Total training time: 0.00 seconds.\n",
      "-- Epoch 2\n",
      "Norm: 13.19, NNZs: 2, Bias: -24.000000, T: 420, Avg. loss: 2.871849\n",
      "Total training time: 0.00 seconds.\n",
      "-- Epoch 3\n",
      "Norm: 9.14, NNZs: 2, Bias: -30.000000, T: 630, Avg. loss: 2.195535\n",
      "Total training time: 0.00 seconds.\n",
      "-- Epoch 4\n",
      "Norm: 13.56, NNZs: 2, Bias: -30.000000, T: 840, Avg. loss: 2.515655\n",
      "Total training time: 0.00 seconds.\n",
      "-- Epoch 5\n",
      "Norm: 5.60, NNZs: 2, Bias: -26.000000, T: 1050, Avg. loss: 2.329620\n",
      "Total training time: 0.00 seconds.\n",
      "-- Epoch 6\n",
      "Norm: 13.28, NNZs: 2, Bias: -28.000000, T: 1260, Avg. loss: 3.278915\n",
      "Total training time: 0.00 seconds.\n",
      "-- Epoch 7\n",
      "Norm: 11.00, NNZs: 2, Bias: -28.000000, T: 1470, Avg. loss: 2.336772\n",
      "Total training time: 0.00 seconds.\n",
      "-- Epoch 8\n",
      "Norm: 7.86, NNZs: 2, Bias: -28.000000, T: 1680, Avg. loss: 2.519422\n",
      "Total training time: 0.00 seconds.\n",
      "Convergence after 8 epochs took 0.00 seconds\n",
      "-- Epoch 1\n",
      "Norm: 9.19, NNZs: 2, Bias: -23.000000, T: 210, Avg. loss: 5.889826\n",
      "Total training time: 0.00 seconds.\n",
      "-- Epoch 2\n",
      "Norm: 14.71, NNZs: 2, Bias: -26.000000, T: 420, Avg. loss: 4.924079\n",
      "Total training time: 0.00 seconds.\n",
      "-- Epoch 3\n",
      "Norm: 10.59, NNZs: 2, Bias: -31.000000, T: 630, Avg. loss: 6.562682\n",
      "Total training time: 0.00 seconds.\n",
      "-- Epoch 4\n",
      "Norm: 17.18, NNZs: 2, Bias: -30.000000, T: 840, Avg. loss: 5.213756\n",
      "Total training time: 0.00 seconds.\n",
      "-- Epoch 5\n",
      "Norm: 19.19, NNZs: 2, Bias: -30.000000, T: 1050, Avg. loss: 5.795676\n",
      "Total training time: 0.00 seconds.\n",
      "-- Epoch 6\n",
      "Norm: 11.54, NNZs: 2, Bias: -33.000000, T: 1260, Avg. loss: 4.806856\n",
      "Total training time: 0.00 seconds.\n",
      "-- Epoch 7\n",
      "Norm: 12.05, NNZs: 2, Bias: -30.000000, T: 1470, Avg. loss: 5.373353\n",
      "Total training time: 0.00 seconds.\n",
      "-- Epoch 8\n",
      "Norm: 17.53, NNZs: 2, Bias: -28.000000, T: 1680, Avg. loss: 4.893797\n",
      "Total training time: 0.00 seconds.\n",
      "-- Epoch 9\n",
      "Norm: 13.13, NNZs: 2, Bias: -27.000000, T: 1890, Avg. loss: 5.182870\n",
      "Total training time: 0.00 seconds.\n",
      "-- Epoch 10\n",
      "Norm: 9.16, NNZs: 2, Bias: -25.000000, T: 2100, Avg. loss: 4.509735\n",
      "Total training time: 0.00 seconds.\n",
      "-- Epoch 1\n",
      "Norm: 13.50, NNZs: 2, Bias: -9.000000, T: 210, Avg. loss: 0.374673\n",
      "Total training time: 0.00 seconds.\n",
      "-- Epoch 2\n",
      "Norm: 7.14, NNZs: 2, Bias: -13.000000, T: 420, Avg. loss: 0.474438\n",
      "Total training time: 0.00 seconds.\n",
      "-- Epoch 3\n",
      "Norm: 7.77, NNZs: 2, Bias: -14.000000, T: 630, Avg. loss: 0.310943\n",
      "Total training time: 0.00 seconds.\n",
      "-- Epoch 4\n",
      "Norm: 8.36, NNZs: 2, Bias: -19.000000, T: 840, Avg. loss: 0.345514\n",
      "Total training time: 0.00 seconds.\n",
      "-- Epoch 5\n",
      "Norm: 6.10, NNZs: 2, Bias: -19.000000, T: 1050, Avg. loss: 0.393354\n",
      "Total training time: 0.00 seconds.\n",
      "-- Epoch 6\n",
      "Norm: 12.78, NNZs: 2, Bias: -17.000000, T: 1260, Avg. loss: 0.174711\n",
      "Total training time: 0.00 seconds.\n",
      "-- Epoch 7\n",
      "Norm: 10.08, NNZs: 2, Bias: -18.000000, T: 1470, Avg. loss: 0.134225\n",
      "Total training time: 0.00 seconds.\n",
      "-- Epoch 8\n",
      "Norm: 11.51, NNZs: 2, Bias: -21.000000, T: 1680, Avg. loss: 0.301524\n",
      "Total training time: 0.00 seconds.\n",
      "-- Epoch 9\n",
      "Norm: 7.79, NNZs: 2, Bias: -22.000000, T: 1890, Avg. loss: 0.438737\n",
      "Total training time: 0.00 seconds.\n",
      "-- Epoch 10\n",
      "Norm: 11.72, NNZs: 2, Bias: -22.000000, T: 2100, Avg. loss: 0.314713\n",
      "Total training time: 0.00 seconds.\n",
      "-- Epoch 1\n",
      "Norm: 8.21, NNZs: 2, Bias: -17.000000, T: 210, Avg. loss: 3.734549\n",
      "Total training time: 0.00 seconds.\n",
      "-- Epoch 2\n",
      "Norm: 13.19, NNZs: 2, Bias: -24.000000, T: 420, Avg. loss: 2.871849\n",
      "Total training time: 0.00 seconds.\n",
      "-- Epoch 3\n",
      "Norm: 9.14, NNZs: 2, Bias: -30.000000, T: 630, Avg. loss: 2.195535\n",
      "Total training time: 0.00 seconds.\n",
      "-- Epoch 4\n",
      "Norm: 13.56, NNZs: 2, Bias: -30.000000, T: 840, Avg. loss: 2.515655\n",
      "Total training time: 0.00 seconds.\n",
      "-- Epoch 5\n",
      "Norm: 5.60, NNZs: 2, Bias: -26.000000, T: 1050, Avg. loss: 2.329620\n",
      "Total training time: 0.00 seconds.\n",
      "-- Epoch 6\n",
      "Norm: 13.28, NNZs: 2, Bias: -28.000000, T: 1260, Avg. loss: 3.278915\n",
      "Total training time: 0.00 seconds.\n",
      "-- Epoch 7\n",
      "Norm: 11.00, NNZs: 2, Bias: -28.000000, T: 1470, Avg. loss: 2.336772\n",
      "Total training time: 0.00 seconds.\n",
      "-- Epoch 8\n",
      "Norm: 7.86, NNZs: 2, Bias: -28.000000, T: 1680, Avg. loss: 2.519422\n",
      "Total training time: 0.00 seconds.\n",
      "Convergence after 8 epochs took 0.00 seconds\n",
      "-- Epoch 1\n",
      "Norm: 9.19, NNZs: 2, Bias: -23.000000, T: 210, Avg. loss: 5.889826\n",
      "Total training time: 0.00 seconds.\n",
      "-- Epoch 2\n",
      "Norm: 14.71, NNZs: 2, Bias: -26.000000, T: 420, Avg. loss: 4.924079\n",
      "Total training time: 0.00 seconds.\n",
      "-- Epoch 3\n",
      "Norm: 10.59, NNZs: 2, Bias: -31.000000, T: 630, Avg. loss: 6.562682\n",
      "Total training time: 0.00 seconds.\n",
      "-- Epoch 4\n",
      "Norm: 17.18, NNZs: 2, Bias: -30.000000, T: 840, Avg. loss: 5.213756\n",
      "Total training time: 0.00 seconds.\n",
      "-- Epoch 5\n",
      "Norm: 19.19, NNZs: 2, Bias: -30.000000, T: 1050, Avg. loss: 5.795676\n",
      "Total training time: 0.00 seconds.\n",
      "-- Epoch 6\n",
      "Norm: 11.54, NNZs: 2, Bias: -33.000000, T: 1260, Avg. loss: 4.806856\n",
      "Total training time: 0.00 seconds.\n",
      "-- Epoch 7\n",
      "Norm: 12.05, NNZs: 2, Bias: -30.000000, T: 1470, Avg. loss: 5.373353\n",
      "Total training time: 0.00 seconds.\n",
      "-- Epoch 8\n",
      "Norm: 17.53, NNZs: 2, Bias: -28.000000, T: 1680, Avg. loss: 4.893797\n",
      "Total training time: 0.00 seconds.\n",
      "-- Epoch 9\n",
      "Norm: 13.13, NNZs: 2, Bias: -27.000000, T: 1890, Avg. loss: 5.182870\n",
      "Total training time: 0.00 seconds.\n",
      "-- Epoch 10\n",
      "Norm: 9.16, NNZs: 2, Bias: -25.000000, T: 2100, Avg. loss: 4.509735\n",
      "Total training time: 0.00 seconds.\n",
      "-- Epoch 1\n",
      "Norm: 13.50, NNZs: 2, Bias: -9.000000, T: 210, Avg. loss: 0.374673\n",
      "Total training time: 0.00 seconds.\n",
      "-- Epoch 2\n",
      "Norm: 7.14, NNZs: 2, Bias: -13.000000, T: 420, Avg. loss: 0.474438\n",
      "Total training time: 0.00 seconds.\n",
      "-- Epoch 3\n",
      "Norm: 7.77, NNZs: 2, Bias: -14.000000, T: 630, Avg. loss: 0.310943\n",
      "Total training time: 0.00 seconds.\n",
      "-- Epoch 4\n",
      "Norm: 8.36, NNZs: 2, Bias: -19.000000, T: 840, Avg. loss: 0.345514\n",
      "Total training time: 0.00 seconds.\n",
      "-- Epoch 5\n",
      "Norm: 6.10, NNZs: 2, Bias: -19.000000, T: 1050, Avg. loss: 0.393354\n",
      "Total training time: 0.00 seconds.\n",
      "-- Epoch 6\n",
      "Norm: 12.78, NNZs: 2, Bias: -17.000000, T: 1260, Avg. loss: 0.174711\n",
      "Total training time: 0.00 seconds.\n",
      "-- Epoch 7\n",
      "Norm: 10.08, NNZs: 2, Bias: -18.000000, T: 1470, Avg. loss: 0.134225\n",
      "Total training time: 0.00 seconds.\n",
      "-- Epoch 8\n",
      "Norm: 11.51, NNZs: 2, Bias: -21.000000, T: 1680, Avg. loss: 0.301524\n",
      "Total training time: 0.00 seconds.\n",
      "-- Epoch 9\n",
      "Norm: 7.79, NNZs: 2, Bias: -22.000000, T: 1890, Avg. loss: 0.438737\n",
      "Total training time: 0.00 seconds.\n",
      "-- Epoch 10\n",
      "Norm: 11.72, NNZs: 2, Bias: -22.000000, T: 2100, Avg. loss: 0.314713\n",
      "Total training time: 0.00 seconds.\n",
      "-- Epoch 1\n",
      "Norm: 8.21, NNZs: 2, Bias: -17.000000, T: 210, Avg. loss: 3.734549\n",
      "Total training time: 0.00 seconds.\n",
      "-- Epoch 2\n",
      "Norm: 13.19, NNZs: 2, Bias: -24.000000, T: 420, Avg. loss: 2.871849\n",
      "Total training time: 0.00 seconds.\n",
      "-- Epoch 3\n",
      "Norm: 9.14, NNZs: 2, Bias: -30.000000, T: 630, Avg. loss: 2.195535\n",
      "Total training time: 0.00 seconds.\n",
      "-- Epoch 4\n"
     ]
    },
    {
     "name": "stdout",
     "output_type": "stream",
     "text": [
      "Norm: 13.56, NNZs: 2, Bias: -30.000000, T: 840, Avg. loss: 2.515655\n",
      "Total training time: 0.00 seconds.\n",
      "-- Epoch 5\n",
      "Norm: 5.60, NNZs: 2, Bias: -26.000000, T: 1050, Avg. loss: 2.329620\n",
      "Total training time: 0.00 seconds.\n",
      "-- Epoch 6\n",
      "Norm: 13.28, NNZs: 2, Bias: -28.000000, T: 1260, Avg. loss: 3.278915\n",
      "Total training time: 0.00 seconds.\n",
      "-- Epoch 7\n",
      "Norm: 11.00, NNZs: 2, Bias: -28.000000, T: 1470, Avg. loss: 2.336772\n",
      "Total training time: 0.00 seconds.\n",
      "-- Epoch 8\n",
      "Norm: 7.86, NNZs: 2, Bias: -28.000000, T: 1680, Avg. loss: 2.519422\n",
      "Total training time: 0.00 seconds.\n",
      "Convergence after 8 epochs took 0.00 seconds\n",
      "-- Epoch 1\n",
      "Norm: 9.19, NNZs: 2, Bias: -23.000000, T: 210, Avg. loss: 5.889826\n",
      "Total training time: 0.00 seconds.\n",
      "-- Epoch 2\n",
      "Norm: 14.71, NNZs: 2, Bias: -26.000000, T: 420, Avg. loss: 4.924079\n",
      "Total training time: 0.00 seconds.\n",
      "-- Epoch 3\n",
      "Norm: 10.59, NNZs: 2, Bias: -31.000000, T: 630, Avg. loss: 6.562682\n",
      "Total training time: 0.00 seconds.\n",
      "-- Epoch 4\n",
      "Norm: 17.18, NNZs: 2, Bias: -30.000000, T: 840, Avg. loss: 5.213756\n",
      "Total training time: 0.00 seconds.\n",
      "-- Epoch 5\n",
      "Norm: 19.19, NNZs: 2, Bias: -30.000000, T: 1050, Avg. loss: 5.795676\n",
      "Total training time: 0.00 seconds.\n",
      "-- Epoch 6\n",
      "Norm: 11.54, NNZs: 2, Bias: -33.000000, T: 1260, Avg. loss: 4.806856\n",
      "Total training time: 0.00 seconds.\n",
      "-- Epoch 7\n",
      "Norm: 12.05, NNZs: 2, Bias: -30.000000, T: 1470, Avg. loss: 5.373353\n",
      "Total training time: 0.00 seconds.\n",
      "-- Epoch 8\n",
      "Norm: 17.53, NNZs: 2, Bias: -28.000000, T: 1680, Avg. loss: 4.893797\n",
      "Total training time: 0.00 seconds.\n",
      "-- Epoch 9\n",
      "Norm: 13.13, NNZs: 2, Bias: -27.000000, T: 1890, Avg. loss: 5.182870\n",
      "Total training time: 0.00 seconds.\n",
      "-- Epoch 10\n",
      "Norm: 9.16, NNZs: 2, Bias: -25.000000, T: 2100, Avg. loss: 4.509735\n",
      "Total training time: 0.00 seconds.\n"
     ]
    },
    {
     "name": "stderr",
     "output_type": "stream",
     "text": [
      "[Parallel(n_jobs=1)]: Done   3 out of   3 | elapsed:    0.0s finished\n",
      "/Users/edouardnadaud/opt/anaconda3/lib/python3.8/site-packages/sklearn/linear_model/_stochastic_gradient.py:570: ConvergenceWarning: Maximum number of iteration reached before convergence. Consider increasing max_iter to improve the fit.\n",
      "  warnings.warn(\"Maximum number of iteration reached before \"\n"
     ]
    }
   ],
   "source": [
    "SGDtime=[]\n",
    "for i in range(7):\n",
    "        clf1=SGDClassifier(loss='perceptron', eta0= 1, max_iter= B, learning_rate='constant', verbose=1, random_state=42)\n",
    "        clf1.fit(X_train,y_train)\n",
    "\n"
   ]
  },
  {
   "cell_type": "markdown",
   "metadata": {},
   "source": [
    "#### Les résultats précédents varient-ils lorsque l’on relance plusieurs fois le même apprentissage ? Pourquoi ?\n"
   ]
  },
  {
   "cell_type": "markdown",
   "metadata": {},
   "source": [
    "Ici les résultats ne vont pas varier car j'ai mis un random states, si on relance a chaque fois le mélange il sera toujours le même. Si j'enleve le randomstate alors les résultats varieront car le melange sera differents à chaque lancement du split. Consequences les entrainements ne seronts pas les même ni le test et les performance varieront\n",
    "De plus lors de la descente de gradient un point au hasard comme depart est pris, les performance dependent donc de ce point aussi et de sa distance avec le minimun et de notre nombre d'iteration"
   ]
  },
  {
   "cell_type": "markdown",
   "metadata": {},
   "source": [
    "#### Que doit-on envisager pour améliorer les performances ? Justifier votre réponse."
   ]
  },
  {
   "cell_type": "markdown",
   "metadata": {},
   "source": [
    "Pour ameliorer les performances on peut réduire le pas et augmenter le nombre d'iteratio n cela nous permettrai d'etre au plus précis dans notre decscente de gradient mais demandera bcp plus de temps; Néanmoins les potienometre seront réglé au plus précis. On peut aussi Juste augmenter le nombre d'iteration avec le meme pas que precedement nous iront plus loin dans la descente de gradient. Ou Bien augmenter le nombre de neurone et de couches mais cela uagmente considerablement le nombre de potientometre et donc de reglages nécessaire ( plus de temps de calcul) sur un petit dataset cela ne derange pas mais si nous avions des millions de feature cela devient compliqué"
   ]
  },
  {
   "cell_type": "markdown",
   "metadata": {},
   "source": [
    "# 2.\tRéseau multi-couche pour la classification"
   ]
  },
  {
   "cell_type": "markdown",
   "metadata": {},
   "source": [
    "#### a)\tDéfinir un réseau de neurones classifieur multi-couche : "
   ]
  },
  {
   "cell_type": "markdown",
   "metadata": {},
   "source": [
    "clf2 = MLPClassifier(hidden_layer_sizes=C, activation='tanh', solver='sgd', batch_size=1, alpha=0, learning_rate='constant', max_iter=100, momentum=0)"
   ]
  },
  {
   "cell_type": "markdown",
   "metadata": {},
   "source": [
    "#### b)\tSensibilité aux hyper-paramètres :\n",
    "\n",
    "#### Pour C = 5 :\n",
    "#### -\tNoter la valeur du coût (loss) en fin d’apprentissage et le nombre d’itérations effectuées ;\n",
    "#### -\tMultiplier le pas d’apprentissage par 10 et noter les valeurs précédentes ;\n",
    "#### -\tChanger le solver (utiliser ‘adam’ au lieu de ‘sgd’) et noter les valeurs précédentes ;\n",
    "#### -\tConclure sur les meilleurs paramètres à utiliser.\n"
   ]
  },
  {
   "cell_type": "code",
   "execution_count": 47,
   "metadata": {},
   "outputs": [
    {
     "name": "stderr",
     "output_type": "stream",
     "text": [
      "/Users/edouardnadaud/opt/anaconda3/lib/python3.8/site-packages/sklearn/neural_network/_multilayer_perceptron.py:582: ConvergenceWarning: Stochastic Optimizer: Maximum iterations (100) reached and the optimization hasn't converged yet.\n",
      "  warnings.warn(\n"
     ]
    }
   ],
   "source": [
    "clf2 = MLPClassifier(hidden_layer_sizes=5, activation='tanh', solver='sgd', batch_size=1, alpha=0, learning_rate='constant', max_iter=100, momentum=0, random_state=42)\n",
    "clf3=clf2.fit(X_train,y_train)"
   ]
  },
  {
   "cell_type": "code",
   "execution_count": 48,
   "metadata": {},
   "outputs": [
    {
     "name": "stdout",
     "output_type": "stream",
     "text": [
      "La valeur du coût en fin d'apprentisage est de 0.2193345436527768\n",
      "Le nombre d'itération éfféctué est de : 100\n",
      "Le score de train est de  : 0.9142857142857143\n",
      "Le score de test est de  : 0.9\n"
     ]
    }
   ],
   "source": [
    "print(\"La valeur du coût en fin d'apprentisage est de {}\".format(clf3.loss_))\n",
    "print(\"Le nombre d'itération éfféctué est de : {}\".format(clf3.n_iter_))\n",
    "print(\"Le score de train est de  : {}\".format(clf3.score(X_train,y_train)))\n",
    "print(\"Le score de test est de  : {}\".format(clf3.score(X_test,y_test)))"
   ]
  },
  {
   "cell_type": "markdown",
   "metadata": {},
   "source": [
    "Pas d'apprentisage *10"
   ]
  },
  {
   "cell_type": "code",
   "execution_count": 49,
   "metadata": {},
   "outputs": [
    {
     "name": "stdout",
     "output_type": "stream",
     "text": [
      "La valeur du coût en fin d'apprentisage est de 0.2025360781812341\n",
      "Le nombre d'itération éfféctué est de : 65\n"
     ]
    }
   ],
   "source": [
    "clf4 = MLPClassifier(hidden_layer_sizes=5, activation='tanh', solver='sgd', batch_size=1, alpha=0, learning_rate='constant', max_iter=100, momentum=0,learning_rate_init=0.01, random_state=42)\n",
    "clf5=clf4.fit(X_train,y_train)\n",
    "print(\"La valeur du coût en fin d'apprentisage est de {}\".format(clf5.loss_))\n",
    "print(\"Le nombre d'itération éfféctué est de : {}\".format(clf5.n_iter_))"
   ]
  },
  {
   "cell_type": "markdown",
   "metadata": {},
   "source": [
    "solver='adam'"
   ]
  },
  {
   "cell_type": "code",
   "execution_count": 50,
   "metadata": {},
   "outputs": [
    {
     "name": "stderr",
     "output_type": "stream",
     "text": [
      "/Users/edouardnadaud/opt/anaconda3/lib/python3.8/site-packages/sklearn/neural_network/_multilayer_perceptron.py:582: ConvergenceWarning: Stochastic Optimizer: Maximum iterations (100) reached and the optimization hasn't converged yet.\n",
      "  warnings.warn(\n"
     ]
    }
   ],
   "source": [
    "clf6 = MLPClassifier(hidden_layer_sizes=5, activation='tanh', solver='adam', batch_size=1, alpha=0, learning_rate='constant', max_iter=100, momentum=0, random_state=42)\n",
    "clf7=clf6.fit(X_train,y_train)"
   ]
  },
  {
   "cell_type": "code",
   "execution_count": 51,
   "metadata": {},
   "outputs": [
    {
     "name": "stdout",
     "output_type": "stream",
     "text": [
      "La valeur du coût en fin d'apprentisage est de 0.18474512856098985\n",
      "Le nombre d'itération éfféctué est de : 100\n"
     ]
    }
   ],
   "source": [
    "print(\"La valeur du coût en fin d'apprentisage est de {}\".format(clf7.loss_))\n",
    "print(\"Le nombre d'itération éfféctué est de : {}\".format(clf7.n_iter_))"
   ]
  },
  {
   "cell_type": "markdown",
   "metadata": {},
   "source": [
    "Pas d'apprentisage *10 avec adam"
   ]
  },
  {
   "cell_type": "code",
   "execution_count": 52,
   "metadata": {},
   "outputs": [
    {
     "name": "stdout",
     "output_type": "stream",
     "text": [
      "La valeur du coût en fin d'apprentisage est de 0.18861225185645206\n",
      "Le nombre d'itération éfféctué est de : 51\n"
     ]
    }
   ],
   "source": [
    "clf8 = MLPClassifier(hidden_layer_sizes=5, activation='tanh', solver='adam', batch_size=1, alpha=0, learning_rate='constant', max_iter=100, momentum=0,learning_rate_init=0.01, random_state=42)\n",
    "clf9=clf8.fit(X_train,y_train)\n",
    "print(\"La valeur du coût en fin d'apprentisage est de {}\".format(clf9.loss_))\n",
    "print(\"Le nombre d'itération éfféctué est de : {}\".format(clf9.n_iter_))"
   ]
  },
  {
   "cell_type": "code",
   "execution_count": 53,
   "metadata": {},
   "outputs": [],
   "source": [
    "solver_sgd=[]\n",
    "solver_adam=[]\n",
    "solver_sgd.append(clf3.loss_)\n",
    "solver_sgd.append(clf5.loss_)\n",
    "solver_adam.append(clf7.loss_)\n",
    "solver_adam.append(clf9.loss_)"
   ]
  },
  {
   "cell_type": "code",
   "execution_count": 54,
   "metadata": {},
   "outputs": [
    {
     "data": {
      "image/png": "[encoded data removed]",
      "text/plain": [
       "<Figure size 432x288 with 1 Axes>"
      ]
     },
     "metadata": {
      "needs_background": "light"
     },
     "output_type": "display_data"
    }
   ],
   "source": [
    "plt.axes()\n",
    "b=[0,10]\n",
    "plt.scatter(b,solver_sgd,c=\"orange\",label=\"solver_sgd\")\n",
    "plt.scatter(b,solver_adam,c=\"blue\",label=\"solver_adam\")\n",
    "plt.xlabel(\"Pas d'apprentissage\", size = 16)\n",
    "plt.ylabel(\"loss\", size = 16)\n",
    "plt.legend(bbox_to_anchor=(1.05, 1), loc='upper left', borderaxespad=0.)\n",
    "\n",
    "plt.show() "
   ]
  },
  {
   "cell_type": "markdown",
   "metadata": {},
   "source": [
    "#### c)\tTrouver, par recherche exhaustive, le nombre optimal de neurones cachés C*. pour ce faire, tester les valeurs de C suivantes : 1, 2, 5, 10, 20, 50, 100.\n",
    "\n",
    "#### Pour chaque valeur de C, répéter 10 fois l’apprentissage et le test. Calculer les moyennes et écart-type des taux en apprentissage et en test. \n",
    "\n",
    "#### Reporter ces résultats dans un tableau, en précisant pour chaque architecture, le nombre de paramètres libres du réseau. Analyser et conclure quant au biais et à la variance\n"
   ]
  },
  {
   "cell_type": "code",
   "execution_count": 55,
   "metadata": {
    "scrolled": true
   },
   "outputs": [
    {
     "data": {
      "text/plain": [
       "'\\ncolumn, row = 10, 7\\nscore_train1=np.ones((column, row))\\nscore_test1=np.ones((column, row))\\naccurancy_train1=np.ones(7)\\naccurancy_test1=np.ones(7)\\nCaltime1=np.ones((column, row))\\ncoefficient=[]\\nbiais=[]\\nfor C,cmpt7 in zip([1,2,5,10,20,50,100],range(7)):\\n    for i in range(10):\\n       \\n        print (\"Pour C = {} et i = {}\".format(C,i))\\n        start_time = time.time()\\n        clf10 = MLPClassifier(hidden_layer_sizes=C, activation=\\'tanh\\', solver=\\'sgd\\', batch_size=1, alpha=0, learning_rate=\\'constant\\', max_iter=100, momentum=0)\\n        clf11=clf10.fit(X_train,y_train)\\n        \\n        coef=0\\n        if i==0:\\n            for cmpt in range(2):\\n                coef=coef+clf10.coefs_[cmpt].shape[0]*clf10.coefs_[cmpt].shape[1]\\n\\n            coefficient.append(coef)\\n\\n            b=0\\n\\n            for cmpt2 in range(2):\\n\\n                b= b+clf10.intercepts_[0].shape[0]+clf10.intercepts_[1].shape[0]\\n\\n            biais.append(b)\\n        \\n        \\n        \\n        score_train1[i,cmpt7]=clf11.score(X_train,y_train)\\n        score_test1[i,cmpt7]=clf11.score(X_test,y_test)\\n        Caltime1[i,cmpt7]=(time.time() - start_time)\\n    accurancy_train1[cmpt7]=score_train1[:,cmpt7].mean()\\n    accurancy_test1[cmpt7]=score_test1[:,cmpt7].mean()\\n    print(\"l\\'accurancy de train pour C= {} est de {}\".format(C,score_train1[:,cmpt7].mean()))\\n    print(\"l\\'accurancy de test pour C= {} est de {}\".format(C,score_test1[:,cmpt7].mean()))\\n#Sauvegarde des tableau de numpy en df pour eviter de les refaires a chauqe fois. random state = 42 on aura toujours les même resultats\\ndf_coefficient = pd.DataFrame(data=coefficient)\\ndf_biais = pd.DataFrame(data=biais)\\ndf_train1 = pd.DataFrame(data=score_train1,columns=[\\'C=1\\',\\'C=2\\',\\'C=5\\',\\'C=10\\',\\'C=20\\',\\'C=50\\',\\'C=100\\'])\\ndf_test1 = pd.DataFrame(data=score_test1,columns=[\\'C=1\\',\\'C=2\\',\\'C=5\\',\\'C=10\\',\\'C=20\\',\\'C=50\\',\\'C=100\\'])\\ndf_time1 = pd.DataFrame(data=Caltime1,columns=[\\'C=1\\',\\'C=2\\',\\'C=5\\',\\'C=10\\',\\'C=20\\',\\'C=50\\',\\'C=100\\'])\\n#Export en PDF pour save en local et eviter le recalcul\\ndf_coefficient.to_excel(\"df_coefficient.xlsx\") \\ndf_biais.to_excel(\"df_biais.xlsx\") \\ndf_train1.to_excel(\"df_train1.xlsx\") \\ndf_test1.to_excel(\"df_test1.xlsx\") \\ndf_time1.to_excel(\"df_time1.xlsx\")\\n'"
      ]
     },
     "execution_count": 55,
     "metadata": {},
     "output_type": "execute_result"
    }
   ],
   "source": [
    "\"\"\"\n",
    "column, row = 10, 7\n",
    "score_train1=np.ones((column, row))\n",
    "score_test1=np.ones((column, row))\n",
    "accurancy_train1=np.ones(7)\n",
    "accurancy_test1=np.ones(7)\n",
    "Caltime1=np.ones((column, row))\n",
    "coefficient=[]\n",
    "biais=[]\n",
    "for C,cmpt7 in zip([1,2,5,10,20,50,100],range(7)):\n",
    "    for i in range(10):\n",
    "       \n",
    "        print (\"Pour C = {} et i = {}\".format(C,i))\n",
    "        start_time = time.time()\n",
    "        clf10 = MLPClassifier(hidden_layer_sizes=C, activation='tanh', solver='sgd', batch_size=1, alpha=0, learning_rate='constant', max_iter=100, momentum=0)\n",
    "        clf11=clf10.fit(X_train,y_train)\n",
    "        \n",
    "        coef=0\n",
    "        if i==0:\n",
    "            for cmpt in range(2):\n",
    "                coef=coef+clf10.coefs_[cmpt].shape[0]*clf10.coefs_[cmpt].shape[1]\n",
    "\n",
    "            coefficient.append(coef)\n",
    "\n",
    "            b=0\n",
    "\n",
    "            for cmpt2 in range(2):\n",
    "\n",
    "                b= b+clf10.intercepts_[0].shape[0]+clf10.intercepts_[1].shape[0]\n",
    "\n",
    "            biais.append(b)\n",
    "        \n",
    "        \n",
    "        \n",
    "        score_train1[i,cmpt7]=clf11.score(X_train,y_train)\n",
    "        score_test1[i,cmpt7]=clf11.score(X_test,y_test)\n",
    "        Caltime1[i,cmpt7]=(time.time() - start_time)\n",
    "    accurancy_train1[cmpt7]=score_train1[:,cmpt7].mean()\n",
    "    accurancy_test1[cmpt7]=score_test1[:,cmpt7].mean()\n",
    "    print(\"l'accurancy de train pour C= {} est de {}\".format(C,score_train1[:,cmpt7].mean()))\n",
    "    print(\"l'accurancy de test pour C= {} est de {}\".format(C,score_test1[:,cmpt7].mean()))\n",
    "#Sauvegarde des tableau de numpy en df pour eviter de les refaires a chauqe fois. random state = 42 on aura toujours les même resultats\n",
    "df_coefficient = pd.DataFrame(data=coefficient)\n",
    "df_biais = pd.DataFrame(data=biais)\n",
    "df_train1 = pd.DataFrame(data=score_train1,columns=['C=1','C=2','C=5','C=10','C=20','C=50','C=100'])\n",
    "df_test1 = pd.DataFrame(data=score_test1,columns=['C=1','C=2','C=5','C=10','C=20','C=50','C=100'])\n",
    "df_time1 = pd.DataFrame(data=Caltime1,columns=['C=1','C=2','C=5','C=10','C=20','C=50','C=100'])\n",
    "#Export en PDF pour save en local et eviter le recalcul\n",
    "df_coefficient.to_excel(\"df_coefficient.xlsx\") \n",
    "df_biais.to_excel(\"df_biais.xlsx\") \n",
    "df_train1.to_excel(\"df_train1.xlsx\") \n",
    "df_test1.to_excel(\"df_test1.xlsx\") \n",
    "df_time1.to_excel(\"df_time1.xlsx\")\n",
    "\"\"\""
   ]
  },
  {
   "cell_type": "markdown",
   "metadata": {},
   "source": [
    "chargement des données à partir des fichiers excel\n",
    "et création d'un tableau moyenne"
   ]
  },
  {
   "cell_type": "code",
   "execution_count": 56,
   "metadata": {},
   "outputs": [],
   "source": [
    "score_train1=[]\n",
    "score_test1=[]\n",
    "score_train1=pd.read_excel('df_train1.xlsx', index_col=0)  \n",
    "score_test1=pd.read_excel('df_test1.xlsx', index_col=0)  \n",
    "score_train1=np.array(score_train1)\n",
    "score_test1=np.array(score_test1)\n",
    "accurancy_train1=[]\n",
    "accurancy_test1=[]\n",
    "\n",
    "for i in range(7):\n",
    "    accurancy_train1.append(score_train1[:,i].mean())\n",
    "    accurancy_test1.append(score_test1[:,i].mean())\n",
    "    "
   ]
  },
  {
   "cell_type": "code",
   "execution_count": 57,
   "metadata": {},
   "outputs": [
    {
     "data": {
      "image/png": "[encoded data removed]",
      "text/plain": [
       "<Figure size 432x288 with 1 Axes>"
      ]
     },
     "metadata": {
      "needs_background": "light"
     },
     "output_type": "display_data"
    }
   ],
   "source": [
    "C=[1,2,5,10,20,50,100]\n",
    "plt.axes()\n",
    "b=[0,10]\n",
    "plt.plot(C,accurancy_train1,c=\"orange\",label=\"Train\")\n",
    "plt.plot(C,accurancy_test1,c=\"blue\",label=\"Test\")\n",
    "plt.xlabel(\"Number of C\", size = 16)\n",
    "plt.ylabel(\"Accurancy\", size = 16)\n",
    "plt.legend(bbox_to_anchor=(1.05, 1), loc='upper left', borderaxespad=0.)\n",
    "plt.title(\"SGD algorythm learning rate=0.001\")\n",
    "plt.show() "
   ]
  },
  {
   "cell_type": "code",
   "execution_count": 58,
   "metadata": {},
   "outputs": [
    {
     "data": {
      "text/plain": [
       "'\\ncolumn, row = 10, 7\\nscore_train2=np.ones((column, row))\\nscore_test2=np.ones((column, row))\\naccurancy_train2=np.ones(7)\\naccurancy_test2=np.ones(7)\\nCaltime2=np.ones((column, row))\\nfor C,cmpt7 in zip([1,2,5,10,20,50,100],range(7)):\\n    for i in range(10):\\n        print (\"Pour C = {} et i = {}\".format(C,i))\\n        start_time = time.time()\\n        clf12 = MLPClassifier(hidden_layer_sizes=C, activation=\\'tanh\\', solver=\\'adam\\', learning_rate_init=0.01,batch_size=1, alpha=0, learning_rate=\\'constant\\', max_iter=100, momentum=0)\\n        clf13=clf12.fit(X_train,y_train)\\n        score_train2[i,cmpt7]=clf13.score(X_train,y_train)\\n        score_test2[i,cmpt7]=clf13.score(X_test,y_test)\\n        Caltime2[i,cmpt7]=(time.time() - start_time)\\n    accurancy_train2[cmpt7]=score_train2[:,cmpt7].mean()\\n    accurancy_test2[cmpt7]=score_test2[:,cmpt7].mean()\\n    print(\"l\\'accurancy de train pour C= {} est de {}\".format(C,score_train2[:,cmpt7].mean()))\\n    print(\"l\\'accurancy de test pour C= {} est de {}\".format(C,score_test2[:,cmpt7].mean()))\\n\\n'"
      ]
     },
     "execution_count": 58,
     "metadata": {},
     "output_type": "execute_result"
    }
   ],
   "source": [
    "\"\"\"\n",
    "column, row = 10, 7\n",
    "score_train2=np.ones((column, row))\n",
    "score_test2=np.ones((column, row))\n",
    "accurancy_train2=np.ones(7)\n",
    "accurancy_test2=np.ones(7)\n",
    "Caltime2=np.ones((column, row))\n",
    "for C,cmpt7 in zip([1,2,5,10,20,50,100],range(7)):\n",
    "    for i in range(10):\n",
    "        print (\"Pour C = {} et i = {}\".format(C,i))\n",
    "        start_time = time.time()\n",
    "        clf12 = MLPClassifier(hidden_layer_sizes=C, activation='tanh', solver='adam', learning_rate_init=0.01,batch_size=1, alpha=0, learning_rate='constant', max_iter=100, momentum=0)\n",
    "        clf13=clf12.fit(X_train,y_train)\n",
    "        score_train2[i,cmpt7]=clf13.score(X_train,y_train)\n",
    "        score_test2[i,cmpt7]=clf13.score(X_test,y_test)\n",
    "        Caltime2[i,cmpt7]=(time.time() - start_time)\n",
    "    accurancy_train2[cmpt7]=score_train2[:,cmpt7].mean()\n",
    "    accurancy_test2[cmpt7]=score_test2[:,cmpt7].mean()\n",
    "    print(\"l'accurancy de train pour C= {} est de {}\".format(C,score_train2[:,cmpt7].mean()))\n",
    "    print(\"l'accurancy de test pour C= {} est de {}\".format(C,score_test2[:,cmpt7].mean()))\n",
    "\n",
    "\"\"\"\n"
   ]
  },
  {
   "cell_type": "code",
   "execution_count": 59,
   "metadata": {},
   "outputs": [
    {
     "data": {
      "text/plain": [
       "'\\ndf_train2 = pd.DataFrame(data=score_train2,columns=[\\'C=1\\',\\'C=2\\',\\'C=5\\',\\'C=10\\',\\'C=20\\',\\'C=50\\',\\'C=100\\'])\\ndf_test2 = pd.DataFrame(data=score_test2,columns=[\\'C=1\\',\\'C=2\\',\\'C=5\\',\\'C=10\\',\\'C=20\\',\\'C=50\\',\\'C=100\\'])\\ndf_time2 = pd.DataFrame(data=Caltime2,columns=[\\'C=1\\',\\'C=2\\',\\'C=5\\',\\'C=10\\',\\'C=20\\',\\'C=50\\',\\'C=100\\'])\\ndf_time2.to_excel(\"df_time2.xlsx\") \\ndf_train2.to_excel(\"df_train2.xlsx\") \\ndf_test2.to_excel(\"df_test2.xlsx\") \\n'"
      ]
     },
     "execution_count": 59,
     "metadata": {},
     "output_type": "execute_result"
    }
   ],
   "source": [
    "\"\"\"\n",
    "df_train2 = pd.DataFrame(data=score_train2,columns=['C=1','C=2','C=5','C=10','C=20','C=50','C=100'])\n",
    "df_test2 = pd.DataFrame(data=score_test2,columns=['C=1','C=2','C=5','C=10','C=20','C=50','C=100'])\n",
    "df_time2 = pd.DataFrame(data=Caltime2,columns=['C=1','C=2','C=5','C=10','C=20','C=50','C=100'])\n",
    "df_time2.to_excel(\"df_time2.xlsx\") \n",
    "df_train2.to_excel(\"df_train2.xlsx\") \n",
    "df_test2.to_excel(\"df_test2.xlsx\") \n",
    "\"\"\""
   ]
  },
  {
   "cell_type": "markdown",
   "metadata": {},
   "source": [
    "chargement des données à partir des fichiers excel\n"
   ]
  },
  {
   "cell_type": "code",
   "execution_count": 60,
   "metadata": {},
   "outputs": [],
   "source": [
    "score_train2=[]\n",
    "score_test2=[]\n",
    "accurancy_train2=[]\n",
    "accurancy_test2=[]\n",
    "score_train2=pd.read_excel('df_train2.xlsx', index_col=0)  \n",
    "score_test2=pd.read_excel('df_test2.xlsx', index_col=0) \n",
    "score_train2=np.array(score_train2)\n",
    "score_test2=np.array(score_test2)\n",
    "\n",
    "\n",
    "for i in range(7):\n",
    "    accurancy_train2.append(score_train2[:,i].mean())\n",
    "    accurancy_test2.append(score_test2[:,i].mean())\n",
    "    "
   ]
  },
  {
   "cell_type": "code",
   "execution_count": 61,
   "metadata": {},
   "outputs": [
    {
     "data": {
      "image/png": "[encoded data removed]",
      "text/plain": [
       "<Figure size 432x288 with 1 Axes>"
      ]
     },
     "metadata": {
      "needs_background": "light"
     },
     "output_type": "display_data"
    }
   ],
   "source": [
    "C=[1,2,5,10,20,50,100]\n",
    "plt.axes()\n",
    "b=[0,10]\n",
    "plt.plot(C,accurancy_train2,c=\"orange\",label=\"Train\")\n",
    "plt.plot(C,accurancy_test2,c=\"blue\",label=\"Test\")\n",
    "plt.xlabel(\"Number of C\", size = 16)\n",
    "plt.ylabel(\"Accurancy\", size = 16)\n",
    "plt.legend(bbox_to_anchor=(1.05, 1), loc='upper left', borderaxespad=0.)\n",
    "plt.title(\"SGD algorythm learning rate=0.01\")\n",
    "plt.show() "
   ]
  },
  {
   "cell_type": "code",
   "execution_count": 62,
   "metadata": {},
   "outputs": [
    {
     "data": {
      "image/png": "[encoded data removed]",
      "text/plain": [
       "<Figure size 432x288 with 1 Axes>"
      ]
     },
     "metadata": {
      "needs_background": "light"
     },
     "output_type": "display_data"
    }
   ],
   "source": [
    "C=[1,2,5,10,20,50,100]\n",
    "plt.axes()\n",
    "b=[0,10]\n",
    "plt.plot(C,accurancy_train1,c=\"orange\",label=\"Train 0.001\")\n",
    "plt.plot(C,accurancy_test1,c=\"blue\",label=\"Test 0.001\")\n",
    "plt.plot(C,accurancy_train2,c=\"black\",label=\"Train 0.01\")\n",
    "plt.plot(C,accurancy_test2,c=\"red\",label=\"Test 0.01\")\n",
    "\n",
    "plt.xlabel(\"Number of C\", size = 16)\n",
    "plt.ylabel(\"Accurancy\", size = 16)\n",
    "plt.legend(bbox_to_anchor=(1.05, 1), loc='upper left', borderaxespad=0.)\n",
    "plt.title(\"SGD algorythm learning rate\")\n",
    "plt.show() "
   ]
  },
  {
   "cell_type": "code",
   "execution_count": 63,
   "metadata": {},
   "outputs": [
    {
     "data": {
      "text/plain": [
       "'\\ncolumn, row = 10, 7\\nscore_train3=np.ones((column, row))\\nscore_test3=np.ones((column, row))\\naccurancy_train3=np.ones(7)\\naccurancy_test3=np.ones(7)\\nCaltime3=np.ones((column, row))\\nfor C,cmpt7 in zip([1,2,5,10,20,50,100],range(7)):\\n    for i in range(10):\\n        print (\"Pour C = {} et i = {}\".format(C,i))\\n        start_time=time.time()\\n        clf14 = MLPClassifier(hidden_layer_sizes=C, activation=\\'tanh\\', solver=\\'adam\\', batch_size=1, alpha=0, learning_rate=\\'constant\\', max_iter=100, momentum=0)\\n        clf15=clf14.fit(X_train,y_train)\\n        score_train3[i,cmpt7]=clf15.score(X_train,y_train)\\n        score_test3[i,cmpt7]=clf15.score(X_test,y_test)\\n        Caltime3[i,cmpt7]=(time.time() - start_time)\\n    accurancy_train3[cmpt7]=score_train3[:,cmpt7].mean()\\n    accurancy_test3[cmpt7]=score_test3[:,cmpt7].mean()\\n    print(\"l\\'accurancy de train pour C= {} est de {}\".format(C,score_train3[:,cmpt7].mean()))\\n    print(\"l\\'accurancy de test pour C= {} est de {}\".format(C,score_test3[:,cmpt7].mean()))\\n'"
      ]
     },
     "execution_count": 63,
     "metadata": {},
     "output_type": "execute_result"
    }
   ],
   "source": [
    "\"\"\"\n",
    "column, row = 10, 7\n",
    "score_train3=np.ones((column, row))\n",
    "score_test3=np.ones((column, row))\n",
    "accurancy_train3=np.ones(7)\n",
    "accurancy_test3=np.ones(7)\n",
    "Caltime3=np.ones((column, row))\n",
    "for C,cmpt7 in zip([1,2,5,10,20,50,100],range(7)):\n",
    "    for i in range(10):\n",
    "        print (\"Pour C = {} et i = {}\".format(C,i))\n",
    "        start_time=time.time()\n",
    "        clf14 = MLPClassifier(hidden_layer_sizes=C, activation='tanh', solver='adam', batch_size=1, alpha=0, learning_rate='constant', max_iter=100, momentum=0)\n",
    "        clf15=clf14.fit(X_train,y_train)\n",
    "        score_train3[i,cmpt7]=clf15.score(X_train,y_train)\n",
    "        score_test3[i,cmpt7]=clf15.score(X_test,y_test)\n",
    "        Caltime3[i,cmpt7]=(time.time() - start_time)\n",
    "    accurancy_train3[cmpt7]=score_train3[:,cmpt7].mean()\n",
    "    accurancy_test3[cmpt7]=score_test3[:,cmpt7].mean()\n",
    "    print(\"l'accurancy de train pour C= {} est de {}\".format(C,score_train3[:,cmpt7].mean()))\n",
    "    print(\"l'accurancy de test pour C= {} est de {}\".format(C,score_test3[:,cmpt7].mean()))\n",
    "\"\"\"\n"
   ]
  },
  {
   "cell_type": "code",
   "execution_count": 64,
   "metadata": {},
   "outputs": [
    {
     "data": {
      "text/plain": [
       "'\\ndf_train3 = pd.DataFrame(data=score_train3,columns=[\\'C=1\\',\\'C=2\\',\\'C=5\\',\\'C=10\\',\\'C=20\\',\\'C=50\\',\\'C=100\\'])\\ndf_test3= pd.DataFrame(data=score_test3,columns=[\\'C=1\\',\\'C=2\\',\\'C=5\\',\\'C=10\\',\\'C=20\\',\\'C=50\\',\\'C=100\\'])\\ndf_time3 = pd.DataFrame(data=Caltime3,columns=[\\'C=1\\',\\'C=2\\',\\'C=5\\',\\'C=10\\',\\'C=20\\',\\'C=50\\',\\'C=100\\'])\\ndf_time3.to_excel(\"df_time3.xlsx\") \\ndf_train3.to_excel(\"df_train3.xlsx\") \\ndf_test3.to_excel(\"df_test3.xlsx\") \\n'"
      ]
     },
     "execution_count": 64,
     "metadata": {},
     "output_type": "execute_result"
    }
   ],
   "source": [
    "\"\"\"\n",
    "df_train3 = pd.DataFrame(data=score_train3,columns=['C=1','C=2','C=5','C=10','C=20','C=50','C=100'])\n",
    "df_test3= pd.DataFrame(data=score_test3,columns=['C=1','C=2','C=5','C=10','C=20','C=50','C=100'])\n",
    "df_time3 = pd.DataFrame(data=Caltime3,columns=['C=1','C=2','C=5','C=10','C=20','C=50','C=100'])\n",
    "df_time3.to_excel(\"df_time3.xlsx\") \n",
    "df_train3.to_excel(\"df_train3.xlsx\") \n",
    "df_test3.to_excel(\"df_test3.xlsx\") \n",
    "\"\"\""
   ]
  },
  {
   "cell_type": "code",
   "execution_count": 65,
   "metadata": {},
   "outputs": [],
   "source": [
    "score_train3=[]\n",
    "score_test3=[]\n",
    "accurancy_train3=[]\n",
    "accurancy_test3=[]\n",
    "score_train3=pd.read_excel('df_train3.xlsx', index_col=0)  \n",
    "score_test3=pd.read_excel('df_test3.xlsx', index_col=0)  \n",
    "score_train3=np.array(score_train3)\n",
    "score_test3=np.array(score_test3)\n",
    "\n",
    "\n",
    "for i in range(7):\n",
    "    accurancy_train3.append(score_train3[:,i].mean())\n",
    "    accurancy_test3.append(score_test3[:,i].mean())\n",
    "    "
   ]
  },
  {
   "cell_type": "code",
   "execution_count": 66,
   "metadata": {},
   "outputs": [
    {
     "data": {
      "image/png": "[encoded data removed]",
      "text/plain": [
       "<Figure size 432x288 with 1 Axes>"
      ]
     },
     "metadata": {
      "needs_background": "light"
     },
     "output_type": "display_data"
    }
   ],
   "source": [
    "C=[1,2,5,10,20,50,100]\n",
    "plt.axes()\n",
    "b=[0,10]\n",
    "plt.plot(C,accurancy_train3,c=\"orange\",label=\"Train\")\n",
    "plt.plot(C,accurancy_test3,c=\"blue\",label=\"Test\")\n",
    "plt.xlabel(\"Number of C\", size = 16)\n",
    "plt.ylabel(\"Accurancy\", size = 16)\n",
    "plt.legend(bbox_to_anchor=(1.05, 1), loc='upper left', borderaxespad=0.)\n",
    "plt.title(\"ADAM algorythm learning rate=0.001\")\n",
    "plt.show() "
   ]
  },
  {
   "cell_type": "code",
   "execution_count": 67,
   "metadata": {},
   "outputs": [
    {
     "data": {
      "text/plain": [
       "'\\ncolumn, row = 10, 7\\nscore_train4=np.ones((column, row))\\nscore_test4=np.ones((column, row))\\naccurancy_train4=np.ones(7)\\naccurancy_test4=np.ones(7)\\nCaltime4=np.ones((column, row))\\nfor C,cmpt7 in zip([1,2,5,10,20,50,100],range(7)):\\n    for i in range(10):\\n        print (\"Pour C = {} et i = {}\".format(C,i))\\n        start_time=time.time()\\n        clf16 = MLPClassifier(hidden_layer_sizes=C, activation=\\'tanh\\', solver=\\'adam\\', learning_rate_init=0.01,batch_size=1, alpha=0, learning_rate=\\'constant\\', max_iter=100, momentum=0)\\n        clf17=clf16.fit(X_train,y_train)\\n        score_train4[i,cmpt7]=clf17.score(X_train,y_train)\\n        score_test4[i,cmpt7]=clf17.score(X_test,y_test)\\n        Caltime4[i,cmpt7]=(time.time() - start_time)\\n    accurancy_train4[cmpt7]=score_train4[:,cmpt7].mean()\\n    accurancy_test4[cmpt7]=score_test4[:,cmpt7].mean()\\n    print(\"l\\'accurancy de train pour C= {} est de {}\".format(C,score_train4[:,cmpt7].mean()))\\n    print(\"l\\'accurancy de test pour C= {} est de {}\".format(C,score_test4[:,cmpt7].mean()))\\n\\n\\n\\n'"
      ]
     },
     "execution_count": 67,
     "metadata": {},
     "output_type": "execute_result"
    }
   ],
   "source": [
    "\"\"\"\n",
    "column, row = 10, 7\n",
    "score_train4=np.ones((column, row))\n",
    "score_test4=np.ones((column, row))\n",
    "accurancy_train4=np.ones(7)\n",
    "accurancy_test4=np.ones(7)\n",
    "Caltime4=np.ones((column, row))\n",
    "for C,cmpt7 in zip([1,2,5,10,20,50,100],range(7)):\n",
    "    for i in range(10):\n",
    "        print (\"Pour C = {} et i = {}\".format(C,i))\n",
    "        start_time=time.time()\n",
    "        clf16 = MLPClassifier(hidden_layer_sizes=C, activation='tanh', solver='adam', learning_rate_init=0.01,batch_size=1, alpha=0, learning_rate='constant', max_iter=100, momentum=0)\n",
    "        clf17=clf16.fit(X_train,y_train)\n",
    "        score_train4[i,cmpt7]=clf17.score(X_train,y_train)\n",
    "        score_test4[i,cmpt7]=clf17.score(X_test,y_test)\n",
    "        Caltime4[i,cmpt7]=(time.time() - start_time)\n",
    "    accurancy_train4[cmpt7]=score_train4[:,cmpt7].mean()\n",
    "    accurancy_test4[cmpt7]=score_test4[:,cmpt7].mean()\n",
    "    print(\"l'accurancy de train pour C= {} est de {}\".format(C,score_train4[:,cmpt7].mean()))\n",
    "    print(\"l'accurancy de test pour C= {} est de {}\".format(C,score_test4[:,cmpt7].mean()))\n",
    "\n",
    "\n",
    "\n",
    "\"\"\""
   ]
  },
  {
   "cell_type": "code",
   "execution_count": 68,
   "metadata": {},
   "outputs": [
    {
     "data": {
      "text/plain": [
       "'\\ndf_train4 = pd.DataFrame(data=score_train4,columns=[\\'C=1\\',\\'C=2\\',\\'C=5\\',\\'C=10\\',\\'C=20\\',\\'C=50\\',\\'C=100\\'])\\ndf_test4 = pd.DataFrame(data=score_test4,columns=[\\'C=1\\',\\'C=2\\',\\'C=5\\',\\'C=10\\',\\'C=20\\',\\'C=50\\',\\'C=100\\'])\\ndf_time4 = pd.DataFrame(data=Caltime4,columns=[\\'C=1\\',\\'C=2\\',\\'C=5\\',\\'C=10\\',\\'C=20\\',\\'C=50\\',\\'C=100\\'])\\ndf_time4.to_excel(\"df_time4.xlsx\") \\ndf_train4.to_excel(\"df_train4.xlsx\") \\ndf_test4.to_excel(\"df_test4.xlsx\") \\n'"
      ]
     },
     "execution_count": 68,
     "metadata": {},
     "output_type": "execute_result"
    }
   ],
   "source": [
    "\"\"\"\n",
    "df_train4 = pd.DataFrame(data=score_train4,columns=['C=1','C=2','C=5','C=10','C=20','C=50','C=100'])\n",
    "df_test4 = pd.DataFrame(data=score_test4,columns=['C=1','C=2','C=5','C=10','C=20','C=50','C=100'])\n",
    "df_time4 = pd.DataFrame(data=Caltime4,columns=['C=1','C=2','C=5','C=10','C=20','C=50','C=100'])\n",
    "df_time4.to_excel(\"df_time4.xlsx\") \n",
    "df_train4.to_excel(\"df_train4.xlsx\") \n",
    "df_test4.to_excel(\"df_test4.xlsx\") \n",
    "\"\"\""
   ]
  },
  {
   "cell_type": "code",
   "execution_count": 69,
   "metadata": {},
   "outputs": [],
   "source": [
    "score_train4=[]\n",
    "score_test4=[]\n",
    "accurancy_train4=[]\n",
    "accurancy_test4=[]\n",
    "score_train4=pd.read_excel('df_train4.xlsx', index_col=0)  \n",
    "score_test4=pd.read_excel('df_test4.xlsx', index_col=0) \n",
    "score_train4=np.array(score_train4)\n",
    "score_test4=np.array(score_test4)\n",
    "\n",
    "\n",
    "for i in range(7):\n",
    "    accurancy_train4.append(score_train4[:,i].mean())\n",
    "    accurancy_test4.append(score_test4[:,i].mean())\n",
    "\n"
   ]
  },
  {
   "cell_type": "code",
   "execution_count": 70,
   "metadata": {},
   "outputs": [
    {
     "data": {
      "image/png": "[encoded data removed]",
      "text/plain": [
       "<Figure size 432x288 with 1 Axes>"
      ]
     },
     "metadata": {
      "needs_background": "light"
     },
     "output_type": "display_data"
    }
   ],
   "source": [
    "C=[1,2,5,10,20,50,100]\n",
    "plt.axes()\n",
    "b=[0,10]\n",
    "plt.plot(C,accurancy_train4,c=\"orange\",label=\"Train\")\n",
    "plt.plot(C,accurancy_test4,c=\"blue\",label=\"Test\")\n",
    "plt.xlabel(\"Number of C\", size = 16)\n",
    "plt.ylabel(\"Accurancy\", size = 16)\n",
    "plt.legend(bbox_to_anchor=(1.05, 1), loc='upper left', borderaxespad=0.)\n",
    "plt.title(\"ADAM algorythm learning rate=0.01\")\n",
    "plt.show() "
   ]
  },
  {
   "cell_type": "code",
   "execution_count": 71,
   "metadata": {},
   "outputs": [
    {
     "data": {
      "image/png": "[encoded data removed]",
      "text/plain": [
       "<Figure size 432x288 with 1 Axes>"
      ]
     },
     "metadata": {
      "needs_background": "light"
     },
     "output_type": "display_data"
    }
   ],
   "source": [
    "C=[1,2,5,10,20,50,100]\n",
    "plt.axes()\n",
    "b=[0,10]\n",
    "plt.plot(C,accurancy_train3,c=\"orange\",label=\"Train 0.001\")\n",
    "plt.plot(C,accurancy_test3,c=\"blue\",label=\"Test 0.001\")\n",
    "plt.plot(C,accurancy_train4,c=\"black\",label=\"Train 0.1\")\n",
    "plt.plot(C,accurancy_test4,c=\"red\",label=\"Test 0.1\")\n",
    "plt.xlabel(\"Number of C\", size = 16)\n",
    "plt.ylabel(\"Accurancy\", size = 16)\n",
    "plt.legend(bbox_to_anchor=(1.05, 1), loc='upper left', borderaxespad=0.)\n",
    "plt.title(\"ADAM algorythm learning rate=0.001\")\n",
    "plt.show() "
   ]
  },
  {
   "cell_type": "markdown",
   "metadata": {},
   "source": [
    "Graphique tu temps de calcul moyen pour sgd et adam \n"
   ]
  },
  {
   "cell_type": "markdown",
   "metadata": {},
   "source": [
    "calcul des moyennes de temps"
   ]
  },
  {
   "cell_type": "code",
   "execution_count": 72,
   "metadata": {},
   "outputs": [],
   "source": [
    "mean_time1=[]\n",
    "mean_time2=[]\n",
    "mean_time3=[]\n",
    "mean_time4=[]\n",
    "time1=pd.read_excel('df_time1.xlsx', index_col=0)  \n",
    "time2=pd.read_excel('df_time2.xlsx', index_col=0)  \n",
    "time3=pd.read_excel('df_time3.xlsx', index_col=0)  \n",
    "time4=pd.read_excel('df_time4.xlsx', index_col=0)  \n",
    "time1=np.array(time1)\n",
    "time2=np.array(time2)\n",
    "time3=np.array(time3)\n",
    "time4=np.array(time4)\n",
    "for i in range(7):\n",
    "    mean_time1.append(time1[:,i].mean())\n",
    "    mean_time2.append(time2[:,i].mean())\n",
    "    mean_time3.append(time3[:,i].mean())\n",
    "    mean_time4.append(time4[:,i].mean())"
   ]
  },
  {
   "cell_type": "code",
   "execution_count": 73,
   "metadata": {},
   "outputs": [
    {
     "data": {
      "image/png": "[encoded data removed]",
      "text/plain": [
       "<Figure size 432x288 with 1 Axes>"
      ]
     },
     "metadata": {
      "needs_background": "light"
     },
     "output_type": "display_data"
    }
   ],
   "source": [
    "mydata = pd.DataFrame({\"SGD 0.001\":mean_time1,\"ADAM 0.001\":mean_time3,\"SGD 0.01\":mean_time2,\"ADAM 0.01\":mean_time4})\n",
    "mydata.index = [\"C=1\",\"C=2\",\"C=5\",\"C=10\",\"C=20\",\"C=50\",\"C=100\"]\n",
    "mydata.plot(kind=\"bar\",rot=30) \n",
    "plt.ylabel(\"Time in second\", size = 16)\n",
    "plt.xlabel(\"Number of neuronne\", size = 16)\n",
    "plt.legend( bbox_to_anchor=(1.05, 1), loc='upper left')\n",
    "plt.show()\n"
   ]
  },
  {
   "cell_type": "markdown",
   "metadata": {},
   "source": [
    "En terme de temps de calcul nous pouvons observer que jusqu'a 10 neuronnes dans la couche caché sfd avec un learning rate de 0.001 est plus performant que l'algo adam. Neanmoins en terme de temps de calcul il est ^référable de prendre l'algorythme adam avec un learning rate de 0.01. Il est logique que plus le pas d'apprentisage est grand moins le temps de calcul est long. car on arrive plus rapidement au minimun de la courbe surtout pour un jeu de donnée aussi faible avec peu de feature"
   ]
  },
  {
   "cell_type": "markdown",
   "metadata": {},
   "source": [
    "# calcul de la Précisions des algos adam et silver"
   ]
  },
  {
   "cell_type": "markdown",
   "metadata": {},
   "source": [
    "### en train"
   ]
  },
  {
   "cell_type": "code",
   "execution_count": 74,
   "metadata": {},
   "outputs": [
    {
     "data": {
      "image/png": "[encoded data removed]",
      "text/plain": [
       "<Figure size 432x288 with 1 Axes>"
      ]
     },
     "metadata": {
      "needs_background": "light"
     },
     "output_type": "display_data"
    }
   ],
   "source": [
    "mydata = pd.DataFrame({\"SGD 0.001\":accurancy_train1,\"ADAM 0.001\":accurancy_train3,\"SGD 0.01\":accurancy_train2,\"ADAM 0.01\":accurancy_train4})\n",
    "mydata.index = [\"C=1\",\"C=2\",\"C=5\",\"C=10\",\"C=20\",\"C=50\",\"C=100\"]\n",
    "mydata.plot(kind=\"bar\",rot=0) \n",
    "plt.legend( bbox_to_anchor=(1.05, 1), loc='upper left')\n",
    "plt.ylabel(\"Accurancy train\", size = 16)\n",
    "plt.xlabel(\"Number of neuronne\", size = 16)\n",
    "plt.show()\n",
    "\n"
   ]
  },
  {
   "cell_type": "markdown",
   "metadata": {},
   "source": [
    "## En test\n"
   ]
  },
  {
   "cell_type": "code",
   "execution_count": 75,
   "metadata": {},
   "outputs": [
    {
     "data": {
      "image/png": "[encoded data removed]",
      "text/plain": [
       "<Figure size 432x288 with 1 Axes>"
      ]
     },
     "metadata": {
      "needs_background": "light"
     },
     "output_type": "display_data"
    }
   ],
   "source": [
    "mydata = pd.DataFrame({\"SGD 0.001\":accurancy_test1,\"ADAM 0.001\":accurancy_test3,\"SGD 0.01\":accurancy_test2,\"ADAM 0.01\":accurancy_test4})\n",
    "mydata.index = [\"C=1\",\"C=2\",\"C=5\",\"C=10\",\"C=20\",\"C=50\",\"C=100\"]\n",
    "mydata.plot(kind=\"bar\",rot=0) \n",
    "plt.ylabel(\"Accurancy test\", size = 16)\n",
    "plt.xlabel(\"Number of neuronne\", size = 16)\n",
    "plt.show()"
   ]
  },
  {
   "cell_type": "markdown",
   "metadata": {},
   "source": [
    "# ecart type\n"
   ]
  },
  {
   "cell_type": "code",
   "execution_count": 76,
   "metadata": {},
   "outputs": [
    {
     "name": "stdout",
     "output_type": "stream",
     "text": [
      "        C=1       C=2       C=5      C=10      C=20      C=50     C=100\n",
      "0  0.709524  0.890476  0.919048  0.919048  0.919048  0.914286  0.919048\n",
      "1  1.000000  1.000000  1.000000  1.000000  1.000000  1.000000  1.000000\n",
      "2  1.000000  1.000000  1.000000  1.000000  1.000000  1.000000  1.000000\n",
      "3  1.000000  1.000000  1.000000  1.000000  1.000000  1.000000  1.000000\n",
      "4  1.000000  1.000000  1.000000  1.000000  1.000000  1.000000  1.000000\n",
      "5  1.000000  1.000000  1.000000  1.000000  1.000000  1.000000  1.000000\n",
      "6  1.000000  1.000000  1.000000  1.000000  1.000000  1.000000  1.000000\n",
      "7  1.000000  1.000000  1.000000  1.000000  1.000000  1.000000  1.000000\n",
      "8  1.000000  1.000000  1.000000  1.000000  1.000000  1.000000  1.000000\n",
      "9  1.000000  1.000000  1.000000  1.000000  1.000000  1.000000  1.000000\n",
      "[0.89047619 1.         1.         1.         1.         1.\n",
      " 1.         1.         1.         1.        ]\n"
     ]
    }
   ],
   "source": [
    "std_train1=[]\n",
    "std_test1=[]\n",
    "std_train2=[]\n",
    "std_test2=[]\n",
    "std_train3=[]\n",
    "std_test3=[]\n",
    "std_train4=[]\n",
    "std_test4=[]\n",
    "\n",
    "train1=[]\n",
    "test1=[]\n",
    "train2=[]\n",
    "test2=[]\n",
    "train3=[]\n",
    "test3=[]\n",
    "train4=[]\n",
    "test4=[]\n",
    "\n",
    "train1=pd.read_excel('df_train1.xlsx', index_col=0)  \n",
    "test1=pd.read_excel('df_test1.xlsx', index_col=0) \n",
    "train2=pd.read_excel('df_train2.xlsx', index_col=0)  \n",
    "test2=pd.read_excel('df_test2.xlsx', index_col=0) \n",
    "train3=pd.read_excel('df_train3.xlsx', index_col=0)  \n",
    "test3=pd.read_excel('df_test3.xlsx', index_col=0) \n",
    "train4=pd.read_excel('df_train4.xlsx', index_col=0)  \n",
    "test4=pd.read_excel('df_test4.xlsx', index_col=0) \n",
    "print(train1)\n",
    "\n",
    "train1=np.array(train1)\n",
    "test1=np.array(test1)\n",
    "train2=np.array(train2)\n",
    "test2=np.array(test2)\n",
    "train3=np.array(train3)\n",
    "test3=np.array(test3)\n",
    "train4=np.array(train4)\n",
    "test4=np.array(test4)\n",
    "\n",
    "print(train1[:,1])\n",
    "\n",
    "for i in range(7):\n",
    "    std_train1.append(train1[:,i].std())\n",
    "    std_test1.append(test1[:,i].std())\n",
    "    std_train2.append(train2[:,i].std())\n",
    "    std_test2.append(test2[:,i].std())\n",
    "    std_train3.append(train3[:,i].std())\n",
    "    std_test3.append(test3[:,i].std())\n",
    "    std_train4.append(train4[:,i].std())\n",
    "    std_test4.append(test4[:,i].std())"
   ]
  },
  {
   "cell_type": "markdown",
   "metadata": {},
   "source": [
    " ####  sgd1"
   ]
  },
  {
   "cell_type": "code",
   "execution_count": null,
   "metadata": {},
   "outputs": [],
   "source": [
    "C=[1,2,5,10,20,50,100]\n",
    "plt.axes()\n",
    "plt.plot(C,std_train1,c=\"orange\",label=\"Train\")\n",
    "plt.plot(C,std_test1,c=\"blue\",label=\"Test\")\n",
    "plt.xlabel(\"Number of C\", size = 16)\n",
    "plt.ylabel(\"Ecart type\", size = 16)\n",
    "plt.legend(bbox_to_anchor=(1.05, 1), loc='upper left', borderaxespad=0.)\n",
    "plt.show() "
   ]
  },
  {
   "cell_type": "markdown",
   "metadata": {},
   "source": [
    " ####  sgd2"
   ]
  },
  {
   "cell_type": "code",
   "execution_count": null,
   "metadata": {},
   "outputs": [],
   "source": [
    "C=[1,2,5,10,20,50,100]\n",
    "plt.axes()\n",
    "plt.plot(C,std_train2,c=\"orange\",label=\"Train\")\n",
    "plt.plot(C,std_test2,c=\"blue\",label=\"Test\")\n",
    "plt.xlabel(\"Number of C\", size = 16)\n",
    "plt.ylabel(\"Ecart type\", size = 16)\n",
    "\n",
    "plt.legend(bbox_to_anchor=(1.05, 1), loc='upper left', borderaxespad=0.)\n",
    "plt.show() "
   ]
  },
  {
   "cell_type": "markdown",
   "metadata": {},
   "source": [
    "#### adam1\n"
   ]
  },
  {
   "cell_type": "code",
   "execution_count": null,
   "metadata": {},
   "outputs": [],
   "source": [
    "C=[1,2,5,10,20,50,100]\n",
    "plt.axes()\n",
    "plt.plot(C,std_train3,c=\"orange\",label=\"Train\")\n",
    "plt.plot(C,std_test3,c=\"blue\",label=\"Test\")\n",
    "plt.xlabel(\"Number of C\", size = 16)\n",
    "plt.ylabel(\"Ecart type\", size = 16)\n",
    "plt.legend(bbox_to_anchor=(1.05, 1), loc='upper left', borderaxespad=0.)\n",
    "plt.show() "
   ]
  },
  {
   "cell_type": "markdown",
   "metadata": {},
   "source": [
    "#### adam2"
   ]
  },
  {
   "cell_type": "code",
   "execution_count": null,
   "metadata": {},
   "outputs": [],
   "source": [
    "C=[1,2,5,10,20,50,100]\n",
    "plt.axes()\n",
    "plt.plot(C,std_train4,c=\"orange\",label=\"Train\")\n",
    "plt.plot(C,std_test4,c=\"blue\",label=\"Test\")\n",
    "plt.xlabel(\"Number of C\", size = 16)\n",
    "plt.ylabel(\"Ecart type\", size = 16)\n",
    "plt.legend(bbox_to_anchor=(1.05, 1), loc='upper left', borderaxespad=0.)\n",
    "plt.show() "
   ]
  },
  {
   "cell_type": "code",
   "execution_count": null,
   "metadata": {},
   "outputs": [],
   "source": [
    "C=[1,2,5,10,20,50,100]\n",
    "plt.axes()\n",
    "plt.plot(C,std_train1,c=\"red\",label=\"TrainSGD1\")\n",
    "plt.plot(C,std_test1,c=\"salmon\",label=\"TestSGD1\")\n",
    "plt.plot(C,std_train2,c=\"slategray\",label=\"TrainSGD2\")\n",
    "plt.plot(C,std_test2,c=\"royalblue\",label=\"TestSGD2\")\n",
    "plt.plot(C,std_train3,c=\"mediumvioletred\",label=\"TrainADAM1\")\n",
    "plt.plot(C,std_test3,c=\"deeppink\",label=\"TestADAM1\")\n",
    "plt.plot(C,std_train4,c=\"darkgreen\",label=\"TrainADAM2\")\n",
    "plt.plot(C,std_test4,c=\"lightgreen\",label=\"TestADAM1\")\n",
    "plt.xlabel(\"Number of C\", size = 16)\n",
    "plt.ylabel(\"Ecart type\", size = 16)\n",
    "plt.legend(bbox_to_anchor=(1.05, 1), loc='upper left', borderaxespad=0.)\n",
    "plt.show() "
   ]
  },
  {
   "cell_type": "code",
   "execution_count": null,
   "metadata": {},
   "outputs": [],
   "source": [
    "C=[1,2,5,10,20,50,100]\n",
    "plt.axes()\n",
    "plt.scatter(C,std_train1,c=\"red\",label=\"TrainSGD1\")\n",
    "plt.scatter(C,std_test1,c=\"salmon\",label=\"TestSGD1\")\n",
    "plt.scatter(C,std_train2,c=\"slategray\",label=\"TrainSGD2\")\n",
    "plt.scatter(C,std_test2,c=\"royalblue\",label=\"TestSGD2\")\n",
    "plt.scatter(C,std_train3,c=\"mediumvioletred\",label=\"TrainADAM1\")\n",
    "plt.scatter(C,std_test3,c=\"deeppink\",label=\"TestADAM1\")\n",
    "plt.scatter(C,std_train4,c=\"darkgreen\",label=\"TrainADAM2\")\n",
    "plt.scatter(C,std_test4,c=\"lightgreen\",label=\"TestADAM1\")\n",
    "plt.xlabel(\"Number of C\", size = 16)\n",
    "plt.ylabel(\"Ecart type\", size = 16)\n",
    "plt.legend(bbox_to_anchor=(1.05, 1), loc='upper left', borderaxespad=0.)\n",
    "plt.show() "
   ]
  },
  {
   "cell_type": "markdown",
   "metadata": {},
   "source": [
    "# 3.     Conclusions\n",
    " \n",
    "#### Comparer les performances obtenues dans les parties 1 et 2. Conclure quant à l’intérêt d’utiliser des modèles parcimonieux.\n",
    " \n",
    "#### Comparer aux performances obtenues à l’aide de l’algorithme des plus-proches-voisins (TP1) : taux de reconnaissance et temps de calcul. Conclure quant à l’intérêt d’utiliser des réseaux de neurones pour la classification.\n",
    " \n"
   ]
  },
  {
   "cell_type": "markdown",
   "metadata": {},
   "source": [
    "pour conclure en terme de biais nous ne prendrons que le model MLP avec pour oslver SGD et learning rate 0.001"
   ]
  },
  {
   "cell_type": "code",
   "execution_count": null,
   "metadata": {},
   "outputs": [],
   "source": [
    "tableau_sgd1=pd.read_excel('coef.xlsx', index_col=0)  "
   ]
  },
  {
   "cell_type": "code",
   "execution_count": null,
   "metadata": {},
   "outputs": [],
   "source": [
    "tableau_sgd1"
   ]
  }
 ],
 "metadata": {
  "kernelspec": {
   "display_name": "Python 3",
   "language": "python",
   "name": "python3"
  },
  "language_info": {
   "codemirror_mode": {
    "name": "ipython",
    "version": 3
   },
   "file_extension": ".py",
   "mimetype": "text/x-python",
   "name": "python",
   "nbconvert_exporter": "python",
   "pygments_lexer": "ipython3",
   "version": "3.8.5"
  }
 },
 "nbformat": 4,
 "nbformat_minor": 4
}
